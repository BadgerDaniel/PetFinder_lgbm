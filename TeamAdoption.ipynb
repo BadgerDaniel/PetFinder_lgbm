{
 "cells": [
  {
   "cell_type": "markdown",
   "metadata": {
    "id": "zOiCbDNsNwE1"
   },
   "source": [
    "<h1>ADSP 31010 IP01 Linear and Non-Linear Models</h1>\n",
    "\n",
    "<u>Team Members</u>\n",
    "- Daniel Sa\n",
    "- Christian Piantanida\n",
    "- Kaustubh Patil\n",
    "\n",
    "**Project**: Pet Adoption speed prediction using LightGBM\n",
    "\n",
    "**Project Objective**: Every year, millions of stray animals are euthanized in shelters worldwide. Using the profiles collected by PetFinder.my, Malaysia's leading animal welfare platform since 2008, we want to use gradient boosting to help predict which pets can be adopted sooner and identify which features contribute to faster adoption. The insights from this will also help determine breeds and animals which require additional support.\n",
    "\n"
   ]
  },
  {
   "cell_type": "code",
   "execution_count": 126,
   "metadata": {
    "id": "eYFW7HIpNPSx"
   },
   "outputs": [],
   "source": [
    "import pandas as pd\n",
    "import matplotlib.pyplot as plt\n",
    "import seaborn as sns\n",
    "# import will2live"
   ]
  },
  {
   "cell_type": "code",
   "execution_count": 127,
   "metadata": {
    "colab": {
     "base_uri": "https://localhost:8080/"
    },
    "id": "HQnkqg_Yvapq",
    "outputId": "225ddc67-8a1c-4766-ebbc-fea64581164d"
   },
   "outputs": [
    {
     "data": {
      "text/plain": [
       "\"\\nfrom google.colab import drive\\ndrive.mount('/content/drive')\\n\""
      ]
     },
     "execution_count": 127,
     "metadata": {},
     "output_type": "execute_result"
    }
   ],
   "source": [
    "'''\n",
    "from google.colab import drive\n",
    "drive.mount('/content/drive')\n",
    "'''"
   ]
  },
  {
   "cell_type": "code",
   "execution_count": 128,
   "metadata": {
    "id": "5DXDjfAZXKRs"
   },
   "outputs": [
    {
     "name": "stderr",
     "output_type": "stream",
     "text": [
      "DataFrame.applymap has been deprecated. Use DataFrame.map instead.\n"
     ]
    }
   ],
   "source": [
    "#train = pd.read_csv(\"/content/drive/Shareddrives/PetFinder/train.csv\")\n",
    "\n",
    "#df=pd.read_csv('/content/drive/Shareddrives/PetFinder/train.csv',encoding='latin1')\n",
    "\n",
    "df=pd.read_csv('train.csv',encoding='latin1')\n",
    "df = df.applymap(lambda x: x.encode('latin1').decode('utf-8') if isinstance(x, str) else x)"
   ]
  },
  {
   "cell_type": "code",
   "execution_count": 129,
   "metadata": {
    "colab": {
     "base_uri": "https://localhost:8080/"
    },
    "id": "U15w59X0XW9F",
    "outputId": "e4b954fb-5c67-44bd-f84c-f70e4b7aee06"
   },
   "outputs": [
    {
     "name": "stdout",
     "output_type": "stream",
     "text": [
      "<class 'pandas.core.frame.DataFrame'>\n",
      "RangeIndex: 14993 entries, 0 to 14992\n",
      "Data columns (total 24 columns):\n",
      " #   Column         Non-Null Count  Dtype  \n",
      "---  ------         --------------  -----  \n",
      " 0   Type           14993 non-null  int64  \n",
      " 1   Name           13728 non-null  object \n",
      " 2   Age            14993 non-null  int64  \n",
      " 3   Breed1         14993 non-null  int64  \n",
      " 4   Breed2         14993 non-null  int64  \n",
      " 5   Gender         14993 non-null  int64  \n",
      " 6   Color1         14993 non-null  int64  \n",
      " 7   Color2         14993 non-null  int64  \n",
      " 8   Color3         14993 non-null  int64  \n",
      " 9   MaturitySize   14993 non-null  int64  \n",
      " 10  FurLength      14993 non-null  int64  \n",
      " 11  Vaccinated     14993 non-null  int64  \n",
      " 12  Dewormed       14993 non-null  int64  \n",
      " 13  Sterilized     14993 non-null  int64  \n",
      " 14  Health         14993 non-null  int64  \n",
      " 15  Quantity       14993 non-null  int64  \n",
      " 16  Fee            14993 non-null  int64  \n",
      " 17  State          14993 non-null  int64  \n",
      " 18  RescuerID      14993 non-null  object \n",
      " 19  VideoAmt       14993 non-null  int64  \n",
      " 20  Description    14980 non-null  object \n",
      " 21  PetID          14993 non-null  object \n",
      " 22  PhotoAmt       14993 non-null  float64\n",
      " 23  AdoptionSpeed  14993 non-null  int64  \n",
      "dtypes: float64(1), int64(19), object(4)\n",
      "memory usage: 2.7+ MB\n"
     ]
    }
   ],
   "source": [
    "df.info()"
   ]
  },
  {
   "cell_type": "markdown",
   "metadata": {
    "id": "dtt2oInM0pnI"
   },
   "source": [
    "## CLEANING"
   ]
  },
  {
   "cell_type": "code",
   "execution_count": 130,
   "metadata": {
    "colab": {
     "base_uri": "https://localhost:8080/"
    },
    "id": "7mZwuLms0oD-",
    "outputId": "af2a8e4c-90b3-47f7-c422-f7d4853e9190"
   },
   "outputs": [
    {
     "name": "stderr",
     "output_type": "stream",
     "text": [
      "[nltk_data] Downloading package stopwords to\n",
      "[nltk_data]     C:\\Users\\danny\\AppData\\Roaming\\nltk_data...\n",
      "[nltk_data]   Package stopwords is already up-to-date!\n",
      "[nltk_data] Downloading package wordnet to\n",
      "[nltk_data]     C:\\Users\\danny\\AppData\\Roaming\\nltk_data...\n",
      "[nltk_data]   Package wordnet is already up-to-date!\n"
     ]
    },
    {
     "data": {
      "text/plain": [
       "True"
      ]
     },
     "execution_count": 130,
     "metadata": {},
     "output_type": "execute_result"
    }
   ],
   "source": [
    "import nltk\n",
    "nltk.download('stopwords')\n",
    "nltk.download('wordnet')"
   ]
  },
  {
   "cell_type": "code",
   "execution_count": 131,
   "metadata": {
    "colab": {
     "base_uri": "https://localhost:8080/"
    },
    "id": "aur5BFOB0sED",
    "outputId": "c1ca4ff3-b8dd-40ed-d2e1-3fb3c0595e64"
   },
   "outputs": [],
   "source": [
    "import re\n",
    "from nltk.corpus import stopwords\n",
    "from nltk.stem import PorterStemmer\n",
    "\n",
    "\n",
    "# remove case sensitivity\n",
    "df['Description'] = df['Description'].str.lower()\n",
    "\n",
    "## Remove punctuation\n",
    "pattern = r'[^\\w\\s]'\n",
    "df['Description'] = df['Description'].str.replace(pattern, '')\n",
    "\n",
    "## Remove stopwords\n",
    "stop_words = stopwords.words('english')\n",
    "df['Description'] = df['Description'].apply(lambda x: ' '.join([word for word in str(x).split() if word not in stop_words]))\n",
    "\n",
    "# Lemmatization\n",
    "from nltk.stem import WordNetLemmatizer\n",
    "lemmatizer = WordNetLemmatizer()\n",
    "df['Description'] = df['Description'].apply(lambda x: ' '.join([lemmatizer.lemmatize(word) for word in x.split()]))"
   ]
  },
  {
   "cell_type": "markdown",
   "metadata": {
    "id": "9tF0wO0I0s4J"
   },
   "source": [
    "#### WORD COUNT (DESCR) COLUMN"
   ]
  },
  {
   "cell_type": "code",
   "execution_count": 132,
   "metadata": {
    "id": "HekhC3MT0s6s"
   },
   "outputs": [],
   "source": [
    "df['DescrWordCount'] = df['Description'].str.split().str.len()"
   ]
  },
  {
   "cell_type": "code",
   "execution_count": 133,
   "metadata": {
    "id": "I-zEVoNm0s9K"
   },
   "outputs": [],
   "source": [
    "columns_to_update = ['Vaccinated', 'Dewormed', 'Sterilized']\n",
    "for column in columns_to_update:\n",
    "    # 1 = Yes , 2=No\n",
    "    df[column] = df[column].apply(lambda x: 1 if x == 1 else 0)\n",
    "\n",
    "\n",
    "df.drop(['State','RescuerID','PetID'],axis=1,inplace=True)"
   ]
  },
  {
   "cell_type": "markdown",
   "metadata": {
    "id": "sMEBsiEr0zE6"
   },
   "source": [
    "Creating useful name columns"
   ]
  },
  {
   "cell_type": "code",
   "execution_count": 134,
   "metadata": {
    "colab": {
     "base_uri": "https://localhost:8080/"
    },
    "id": "-FzsyJei0s_t",
    "outputId": "c5f3ca38-3d50-4ff4-b036-f873fed0cd1e"
   },
   "outputs": [],
   "source": [
    "# remove case sensitivity\n",
    "df['Name'] = df['Name'].str.lower()\n",
    "\n",
    "## Remove punctuation\n",
    "pattern = r'[^\\w\\s]'\n",
    "df['Name'] = df['Name'].str.replace(pattern, '')\n",
    "\n",
    "## Remove stopwords\n",
    "#stop_words = stopwords.words('english')\n",
    "stopwordz=list(stopwords.words('english'))\n",
    "stopwordz.pop(116)\n",
    "#stopwordz[116]\n",
    "stop_words=stopwordz\n",
    "df['Name'] = df['Name'].apply(lambda x: ' '.join([word for word in str(x).split() if word not in stop_words]))\n",
    "\n",
    "# Lemmatization\n",
    "lemmatizer = WordNetLemmatizer()\n",
    "df['Name'] = df['Name'].apply(lambda x: ' '.join([lemmatizer.lemmatize(word) for word in x.split()]))"
   ]
  },
  {
   "cell_type": "code",
   "execution_count": 135,
   "metadata": {
    "id": "Myi92YEp0tCm"
   },
   "outputs": [],
   "source": [
    "df['Name_Len']=df['Name'].apply(lambda x: len(str(x)))"
   ]
  },
  {
   "cell_type": "code",
   "execution_count": 136,
   "metadata": {
    "colab": {
     "base_uri": "https://localhost:8080/"
    },
    "id": "LPpz-XzW0tDi",
    "outputId": "e3ac91b1-d4cc-4845-f5b3-335cb626fd09"
   },
   "outputs": [
    {
     "data": {
      "text/plain": [
       "0        1\n",
       "1        3\n",
       "2        1\n",
       "3        1\n",
       "4        1\n",
       "        ..\n",
       "14988    1\n",
       "14989    3\n",
       "14990    1\n",
       "14991    2\n",
       "14992    1\n",
       "Name: Name_words, Length: 14993, dtype: int64"
      ]
     },
     "execution_count": 136,
     "metadata": {},
     "output_type": "execute_result"
    }
   ],
   "source": [
    "# number of words in name\n",
    "df['Name_words']=df['Name'].str.split().str.len()\n",
    "df['Name_words']"
   ]
  },
  {
   "cell_type": "code",
   "execution_count": 137,
   "metadata": {
    "colab": {
     "base_uri": "https://localhost:8080/"
    },
    "id": "aGzwBzSJ0tFT",
    "outputId": "5d040045-c9f6-4582-9425-736e590d4530"
   },
   "outputs": [
    {
     "data": {
      "text/plain": [
       "Breed1\n",
       "307    5927\n",
       "266    3634\n",
       "265    1258\n",
       "299     342\n",
       "264     296\n",
       "       ... \n",
       "176       1\n",
       "214       1\n",
       "125       1\n",
       "123       1\n",
       "81        1\n",
       "Name: count, Length: 176, dtype: int64"
      ]
     },
     "execution_count": 137,
     "metadata": {},
     "output_type": "execute_result"
    }
   ],
   "source": [
    "df['Breed1'].value_counts()"
   ]
  },
  {
   "cell_type": "code",
   "execution_count": 138,
   "metadata": {
    "colab": {
     "base_uri": "https://localhost:8080/",
     "height": 693
    },
    "id": "UbglZjjn0tGn",
    "outputId": "3ed7e17a-4dc8-46b3-aaf4-8ae35f9c3295"
   },
   "outputs": [
    {
     "data": {
      "image/png": "[encoded data removed]",
      "text/plain": [
       "<Figure size 1200x1200 with 2 Axes>"
      ]
     },
     "metadata": {},
     "output_type": "display_data"
    }
   ],
   "source": [
    "plt.figure(figsize=(12, 12))\n",
    "sns.heatmap(df.drop(['Name','Description'],axis=1).corr(), annot=True, fmt=\".2f\",cmap='viridis')\n",
    "plt.show()"
   ]
  },
  {
   "cell_type": "code",
   "execution_count": 139,
   "metadata": {
    "colab": {
     "base_uri": "https://localhost:8080/"
    },
    "id": "Xp2LGnK90tIc",
    "outputId": "6eb4133c-7f32-475e-f806-a5a9fb428b1d"
   },
   "outputs": [
    {
     "data": {
      "text/plain": [
       "{1: 'Black',\n",
       " 2: 'Brown',\n",
       " 3: 'Golden',\n",
       " 4: 'Yellow',\n",
       " 5: 'Cream',\n",
       " 6: 'Gray',\n",
       " 7: 'White',\n",
       " 0: '0'}"
      ]
     },
     "execution_count": 139,
     "metadata": {},
     "output_type": "execute_result"
    }
   ],
   "source": [
    "color_map={1:'Black',2:'Brown',3:'Golden',4:'Yellow',5:'Cream',6:'Gray',7:'White',0:'0'}\n",
    "color_map\n"
   ]
  },
  {
   "cell_type": "code",
   "execution_count": 140,
   "metadata": {
    "id": "e-7jWWaX0tMi"
   },
   "outputs": [],
   "source": [
    "df['Color1']=df['Color1'].replace(color_map)\n",
    "df['Color2']=df['Color2'].replace(color_map)\n",
    "df['Color3']=df['Color3'].replace(color_map)"
   ]
  },
  {
   "cell_type": "code",
   "execution_count": 141,
   "metadata": {
    "id": "E5Xc64b90tOQ"
   },
   "outputs": [],
   "source": [
    "health_map={1:'Healthy',2:'Minor Injury',3:'Serious Injury',0:'Not Specified'}\n",
    "df['Health']=df['Health'].replace(health_map)"
   ]
  },
  {
   "cell_type": "code",
   "execution_count": 142,
   "metadata": {
    "id": "xeQA311n0tPx"
   },
   "outputs": [],
   "source": [
    "gender_map={1:'Male',2:'Female',3:'Mixed (group)'}\n",
    "df['Gender']=df['Gender'].replace(gender_map)"
   ]
  },
  {
   "cell_type": "code",
   "execution_count": 143,
   "metadata": {
    "id": "7O5DaLWz0tRX"
   },
   "outputs": [],
   "source": [
    "type_map={1:'Dog',2:'Cat'}\n",
    "df['Type']=df['Type'].replace(type_map)"
   ]
  },
  {
   "cell_type": "code",
   "execution_count": 144,
   "metadata": {
    "id": "9wPONY4d0tYD"
   },
   "outputs": [],
   "source": [
    "breeds_dict = {\n",
    "        1: \"Affenpinscher\",\n",
    "        2: \"Afghan Hound\",\n",
    "        3: \"Airedale Terrier\",\n",
    "        4: \"Akbash\",\n",
    "        5: \"Akita\",\n",
    "        6: \"Alaskan Malamute\",\n",
    "        7: \"American Bulldog\",\n",
    "        8: \"American Eskimo Dog\",\n",
    "        9: \"American Hairless Terrier\",\n",
    "        10: \"American Staffordshire Terrier\",\n",
    "        11: \"American Water Spaniel\",\n",
    "        12: \"Anatolian Shepherd\",\n",
    "        13: \"Appenzell Mountain Dog\",\n",
    "        14: \"Australian Cattle Dog/Blue Heeler\",\n",
    "        15: \"Australian Kelpie\",\n",
    "        16: \"Australian Shepherd\",\n",
    "        17: \"Australian Terrier\",\n",
    "        18: \"Basenji\",\n",
    "        19: \"Basset Hound\",\n",
    "        20: \"Beagle\",\n",
    "        21: \"Bearded Collie\",\n",
    "        22: \"Beauceron\",\n",
    "        23: \"Bedlington Terrier\",\n",
    "        24: \"Belgian Shepherd Dog Sheepdog\",\n",
    "        25: \"Belgian Shepherd Laekenois\",\n",
    "        26: \"Belgian Shepherd Malinois\",\n",
    "        27: \"Belgian Shepherd Tervuren\",\n",
    "        28: \"Bernese Mountain Dog\",\n",
    "        29: \"Bichon Frise\",\n",
    "        30: \"Black and Tan Coonhound\",\n",
    "        31: \"Black Labrador Retriever\",\n",
    "        32: \"Black Mouth Cur\",\n",
    "        33: \"Black Russian Terrier\",\n",
    "        34: \"Bloodhound\",\n",
    "        35: \"Blue Lacy\",\n",
    "        36: \"Bluetick Coonhound\",\n",
    "        37: \"Boerboel\",\n",
    "        38: \"Bolognese\",\n",
    "        39: \"Border Collie\",\n",
    "        40: \"Border Terrier\",\n",
    "        41: \"Borzoi\",\n",
    "        42: \"Boston Terrier\",\n",
    "        43: \"Bouvier des Flanders\",\n",
    "        44: \"Boxer\",\n",
    "        45: \"Boykin Spaniel\",\n",
    "        46: \"Briard\",\n",
    "        47: \"Brittany Spaniel\",\n",
    "        48: \"Brussels Griffon\",\n",
    "        49: \"Bull Terrier\",\n",
    "        50: \"Bullmastiff\",\n",
    "        51: \"Cairn Terrier\",\n",
    "        52: \"Canaan Dog\",\n",
    "        53: \"Cane Corso Mastiff\",\n",
    "        54: \"Carolina Dog\",\n",
    "        55: \"Catahoula Leopard Dog\",\n",
    "        56: \"Cattle Dog\",\n",
    "        57: \"Caucasian Sheepdog (Caucasian Ovtcharka)\",\n",
    "        58: \"Cavalier King Charles Spaniel\",\n",
    "        59: \"Chesapeake Bay Retriever\",\n",
    "        60: \"Chihuahua\",\n",
    "        61: \"Chinese Crested Dog\",\n",
    "        62: \"Chinese Foo Dog\",\n",
    "        63: \"Chinook\",\n",
    "        64: \"Chocolate Labrador Retriever\",\n",
    "        65: \"Chow Chow\",\n",
    "        66: \"Cirneco dell'Etna\",\n",
    "        67: \"Clumber Spaniel\",\n",
    "        68: \"Cockapoo\",\n",
    "        69: \"Cocker Spaniel\",\n",
    "        70: \"Collie\",\n",
    "        71: \"Coonhound\",\n",
    "        72: \"Corgi\",\n",
    "        73: \"Coton de Tulear\",\n",
    "        74: \"Curly-Coated Retriever\",\n",
    "        75: \"Dachshund\",\n",
    "        76: \"Dalmatian\",\n",
    "        77: \"Dandi Dinmont Terrier\",\n",
    "        78: \"Doberman Pinscher\",\n",
    "        79: \"Dogo Argentino\",\n",
    "        80: \"Dogue de Bordeaux\",\n",
    "        81: \"Dutch Shepherd\",\n",
    "        82: \"English Bulldog\",\n",
    "        83: \"English Cocker Spaniel\",\n",
    "        84: \"English Coonhound\",\n",
    "        85: \"English Pointer\",\n",
    "        86: \"English Setter\",\n",
    "        87: \"English Shepherd\",\n",
    "        88: \"English Springer Spaniel\",\n",
    "        89: \"English Toy Spaniel\",\n",
    "        90: \"Entlebucher\",\n",
    "        91: \"Eskimo Dog\",\n",
    "        92: \"Feist\",\n",
    "        93: \"Field Spaniel\",\n",
    "        94: \"Fila Brasileiro\",\n",
    "        95: \"Finnish Lapphund\",\n",
    "        96: \"Finnish Spitz\",\n",
    "        97: \"Flat-coated Retriever\",\n",
    "        98: \"Fox Terrier\",\n",
    "        99: \"Foxhound\",\n",
    "        100: \"French Bulldog\",\n",
    "        101: \"Galgo Spanish Greyhound\",\n",
    "        102: \"German Pinscher\",\n",
    "        103: \"German Shepherd Dog\",\n",
    "        104: \"German Shorthaired Pointer\",\n",
    "        105: \"German Spitz\",\n",
    "        106: \"German Wirehaired Pointer\",\n",
    "        107: \"Giant Schnauzer\",\n",
    "        108: \"Glen of Imaal Terrier\",\n",
    "        109: \"Golden Retriever\",\n",
    "        110: \"Gordon Setter\",\n",
    "        111: \"Great Dane\",\n",
    "        112: \"Great Pyrenees\",\n",
    "        113: \"Greater Swiss Mountain Dog\",\n",
    "        114: \"Greyhound\",\n",
    "        115: \"Harrier\",\n",
    "        116: \"Havanese\",\n",
    "        117: \"Hound\",\n",
    "        118: \"Hovawart\",\n",
    "        119: \"Husky\",\n",
    "        120: \"Ibizan Hound\",\n",
    "        121: \"Illyrian Sheepdog\",\n",
    "        122: \"Irish Setter\",\n",
    "        123: \"Irish Terrier\",\n",
    "        124: \"Irish Water Spaniel\",\n",
    "        125: \"Irish Wolfhound\",\n",
    "        126: \"Italian Greyhound\",\n",
    "        127: \"Italian Spinone\",\n",
    "        128: \"Jack Russell Terrier\",\n",
    "        129: \"Jack Russell Terrier (Parson Russell Terrier)\",\n",
    "        130: \"Japanese Chin\",\n",
    "        131: \"Jindo\",\n",
    "        132: \"Kai Dog\",\n",
    "        133: \"Karelian Bear Dog\",\n",
    "        134: \"Keeshond\",\n",
    "        135: \"Kerry Blue Terrier\",\n",
    "        136: \"Kishu\",\n",
    "        137: \"Klee Kai\",\n",
    "        138: \"Komondor\",\n",
    "        139: \"Kuvasz\",\n",
    "        140: \"Kyi Leo\",\n",
    "        141: \"Labrador Retriever\",\n",
    "        142: \"Lakeland Terrier\",\n",
    "        143: \"Lancashire Heeler\",\n",
    "        144: \"Leonberger\",\n",
    "        145: \"Lhasa Apso\",\n",
    "        146: \"Lowchen\",\n",
    "        147: \"Maltese\",\n",
    "        148: \"Manchester Terrier\",\n",
    "    149: \"Maremma Sheepdog\",\n",
    "    150: \"Mastiff\",\n",
    "    151: \"McNab\",\n",
    "    152: \"Miniature Pinscher\",\n",
    "    153: \"Mountain Cur\",\n",
    "    154: \"Mountain Dog\",\n",
    "    155: \"Munsterlander\",\n",
    "    156: \"Neapolitan Mastiff\",\n",
    "    157: \"New Guinea Singing Dog\",\n",
    "    158: \"Newfoundland Dog\",\n",
    "    159: \"Norfolk Terrier\",\n",
    "    160: \"Norwegian Buhund\",\n",
    "    161: \"Norwegian Elkhound\",\n",
    "    162: \"Norwegian Lundehund\",\n",
    "    163: \"Norwich Terrier\",\n",
    "    164: \"Nova Scotia Duck-Tolling Retriever\",\n",
    "    165: \"Old English Sheepdog\",\n",
    "    166: \"Otterhound\",\n",
    "    167: \"Papillon\",\n",
    "    168: \"Patterdale Terrier (Fell Terrier)\",\n",
    "    169: \"Pekingese\",\n",
    "    170: \"Peruvian Inca Orchid\",\n",
    "    171: \"Petit Basset Griffon Vendeen\",\n",
    "    172: \"Pharaoh Hound\",\n",
    "    173: \"Pit Bull Terrier\",\n",
    "    174: \"Plott Hound\",\n",
    "    175: \"Podengo Portugueso\",\n",
    "    176: \"Pointer\",\n",
    "    177: \"Polish Lowland Sheepdog\",\n",
    "    178: \"Pomeranian\",\n",
    "    179: \"Poodle\",\n",
    "    180: \"Portuguese Water Dog\",\n",
    "    181: \"Presa Canario\",\n",
    "    182: \"Pug\",\n",
    "    183: \"Puli\",\n",
    "    184: \"Pumi\",\n",
    "    185: \"Rat Terrier\",\n",
    "    186: \"Redbone Coonhound\",\n",
    "    187: \"Retriever\",\n",
    "    188: \"Rhodesian Ridgeback\",\n",
    "    189: \"Rottweiler\",\n",
    "    190: \"Saint Bernard\",\n",
    "    191: \"Saluki\",\n",
    "    192: \"Samoyed\",\n",
    "    193: \"Sarplaninac\",\n",
    "    194: \"Schipperke\",\n",
    "    195: \"Schnauzer\",\n",
    "    196: \"Scottish Deerhound\",\n",
    "    197: \"Scottish Terrier Scottie\",\n",
    "    198: \"Sealyham Terrier\",\n",
    "    199: \"Setter\",\n",
    "    200: \"Shar Pei\",\n",
    "    201: \"Sheep Dog\",\n",
    "    202: \"Shepherd\",\n",
    "    203: \"Shetland Sheepdog Sheltie\",\n",
    "    204: \"Shiba Inu\",\n",
    "    205: \"Shih Tzu\",\n",
    "    206: \"Siberian Husky\",\n",
    "    207: \"Silky Terrier\",\n",
    "    208: \"Skye Terrier\",\n",
    "    209: \"Sloughi\",\n",
    "    210: \"Smooth Fox Terrier\",\n",
    "    211: \"South Russian Ovtcharka\",\n",
    "    212: \"Spaniel\",\n",
    "    213: \"Spitz\",\n",
    "    214: \"Staffordshire Bull Terrier\",\n",
    "    215: \"Standard Poodle\",\n",
    "    216: \"Sussex Spaniel\",\n",
    "    217: \"Swedish Vallhund\",\n",
    "    218: \"Terrier\",\n",
    "    219: \"Thai Ridgeback\",\n",
    "    220: \"Tibetan Mastiff\",\n",
    "    221: \"Tibetan Spaniel\",\n",
    "    222: \"Tibetan Terrier\",\n",
    "    223: \"Tosa Inu\",\n",
    "    224: \"Toy Fox Terrier\",\n",
    "    225: \"Treeing Walker Coonhound\",\n",
    "    226: \"Vizsla\",\n",
    "    227: \"Weimaraner\",\n",
    "    228: \"Welsh Corgi\",\n",
    "    229: \"Welsh Springer Spaniel\",\n",
    "    230: \"Welsh Terrier\",\n",
    "    231: \"West Highland White Terrier Westie\",\n",
    "    232: \"Wheaten Terrier\",\n",
    "    233: \"Whippet\",\n",
    "    234: \"White German Shepherd\",\n",
    "    235: \"Wire Fox Terrier\",\n",
    "    236: \"Wire-haired Pointing Griffon\",\n",
    "    237: \"Wirehaired Terrier\",\n",
    "    238: \"Xoloitzcuintle/Mexican Hairless\",\n",
    "    239: \"Yellow Labrador Retriever\",\n",
    "    240: \"Yorkshire Terrier Yorkie\",\n",
    "    241: \"Abyssinian\",\n",
    "    242: \"American Curl\",\n",
    "    243: \"American Shorthair\",\n",
    "    244: \"American Wirehair\",\n",
    "    245: \"Applehead Siamese\",\n",
    "    246: \"Balinese\",\n",
    "    247: \"Bengal\",\n",
    "    248: \"Birman\",\n",
    "    249: \"Bobtail\",\n",
    "    250: \"Bombay\",\n",
    "    251: \"British Shorthair\",\n",
    "    252: \"Burmese\",\n",
    "    253: \"Burmilla\",\n",
    "    254: \"Calico\",\n",
    "    255: \"Canadian Hairless\",\n",
    "    256: \"Chartreux\",\n",
    "    257: \"Chausie\",\n",
    "    258: \"Chinchilla\",\n",
    "    259: \"Cornish Rex\",\n",
    "    260: \"Cymric\",\n",
    "    261: \"Devon Rex\",\n",
    "    262: \"Dilute Calico\",\n",
    "    263: \"Dilute Tortoiseshell\",\n",
    "    264: \"Domestic Long Hair\",\n",
    "    265: \"Domestic Medium Hair\",\n",
    "    266: \"Domestic Short Hair\",\n",
    "    267: \"Egyptian Mau\",\n",
    "    268: \"Exotic Shorthair\",\n",
    "    269: \"Extra-Toes Cat (Hemingway Polydactyl)\",\n",
    "    270: \"Havana\",\n",
    "    271: \"Himalayan\",\n",
    "    272: \"Japanese Bobtail\",\n",
    "    273: \"Javanese\",\n",
    "    274: \"Korat\",\n",
    "    275: \"LaPerm\",\n",
    "    276: \"Maine Coon\",\n",
    "    277: \"Manx\",\n",
    "    278: \"Munchkin\",\n",
    "    279: \"Nebelung\",\n",
    "    280: \"Norwegian Forest Cat\",\n",
    "    281: \"Ocicat\",\n",
    "    282: \"Oriental Long Hair\",\n",
    "    283: \"Oriental Short Hair\",\n",
    "    284: \"Oriental Tabby\",\n",
    "    285: \"Persian\",\n",
    "    286: \"Pixie-Bob\",\n",
    "    287: \"Ragamuffin\",\n",
    "    288: \"Ragdoll\",\n",
    "    289: \"Russian Blue\",\n",
    "    290: \"Scottish Fold\",\n",
    "    291: \"Selkirk Rex\",\n",
    "    292: \"Siamese\",\n",
    "    293: \"Siberian\",\n",
    "    294: \"Silver\",\n",
    "    295: \"Singapura\",\n",
    "    296: \"Snowshoe\",\n",
    "    297: \"Somali\",\n",
    "    298: \"Sphynx (hairless cat)\",\n",
    "    299: \"Tabby\",\n",
    "    300: \"Tiger\",\n",
    "    301: \"Tonkinese\",\n",
    "    302: \"Torbie\",\n",
    "    303: \"Tortoiseshell\",\n",
    "    304: \"Turkish Angora\",\n",
    "    305: \"Turkish Van\",\n",
    "    306: \"Tuxedo\",\n",
    "    307: \"Mixed Breed\"}"
   ]
  },
  {
   "cell_type": "code",
   "execution_count": 145,
   "metadata": {
    "id": "CpX1dsb50tY_"
   },
   "outputs": [],
   "source": [
    "df['Breed1']=df['Breed1'].replace(breeds_dict)\n",
    "df['Breed2']=df['Breed2'].replace(breeds_dict)"
   ]
  },
  {
   "cell_type": "code",
   "execution_count": 146,
   "metadata": {
    "id": "2weH_Odh0tnn"
   },
   "outputs": [],
   "source": [
    "adoption_time_dict = {\n",
    "    0: \"Same-Day\",\n",
    "    1: \"1st Week\",\n",
    "    2: \"1st Month\",\n",
    "    3: \"2nd & 3rd Month\",\n",
    "    4: \"Not Adopted\"\n",
    "}\n",
    "df['AdoptionSpeed']=df['AdoptionSpeed'].replace(adoption_time_dict)"
   ]
  },
  {
   "cell_type": "markdown",
   "metadata": {
    "id": "s-_jTALZ0tp5"
   },
   "source": [
    "## EDA"
   ]
  },
  {
   "cell_type": "code",
   "execution_count": 147,
   "metadata": {
    "colab": {
     "base_uri": "https://localhost:8080/"
    },
    "id": "bJz5PJqy0ttr",
    "outputId": "2f876fd2-7445-46f3-ecce-7940210d24e5"
   },
   "outputs": [
    {
     "name": "stdout",
     "output_type": "stream",
     "text": [
      "Type              0\n",
      "Name              0\n",
      "Age               0\n",
      "Breed1            0\n",
      "Breed2            0\n",
      "Gender            0\n",
      "Color1            0\n",
      "Color2            0\n",
      "Color3            0\n",
      "MaturitySize      0\n",
      "FurLength         0\n",
      "Vaccinated        0\n",
      "Dewormed          0\n",
      "Sterilized        0\n",
      "Health            0\n",
      "Quantity          0\n",
      "Fee               0\n",
      "VideoAmt          0\n",
      "Description       0\n",
      "PhotoAmt          0\n",
      "AdoptionSpeed     0\n",
      "DescrWordCount    0\n",
      "Name_Len          0\n",
      "Name_words        0\n",
      "dtype: int64\n"
     ]
    }
   ],
   "source": [
    "print(df.isnull().sum())"
   ]
  },
  {
   "cell_type": "code",
   "execution_count": 148,
   "metadata": {
    "colab": {
     "base_uri": "https://localhost:8080/",
     "height": 457
    },
    "id": "UGQVYS3t0tvc",
    "outputId": "160c3fbc-4d83-413b-b33e-f9f969cdfb74"
   },
   "outputs": [
    {
     "data": {
      "text/html": [
       "<div>\n",
       "<style scoped>\n",
       "    .dataframe tbody tr th:only-of-type {\n",
       "        vertical-align: middle;\n",
       "    }\n",
       "\n",
       "    .dataframe tbody tr th {\n",
       "        vertical-align: top;\n",
       "    }\n",
       "\n",
       "    .dataframe thead th {\n",
       "        text-align: right;\n",
       "    }\n",
       "</style>\n",
       "<table border=\"1\" class=\"dataframe\">\n",
       "  <thead>\n",
       "    <tr style=\"text-align: right;\">\n",
       "      <th></th>\n",
       "      <th>count</th>\n",
       "      <th>mean</th>\n",
       "      <th>std</th>\n",
       "      <th>min</th>\n",
       "      <th>25%</th>\n",
       "      <th>50%</th>\n",
       "      <th>75%</th>\n",
       "      <th>max</th>\n",
       "    </tr>\n",
       "  </thead>\n",
       "  <tbody>\n",
       "    <tr>\n",
       "      <th>Age</th>\n",
       "      <td>14993.0</td>\n",
       "      <td>10.452078</td>\n",
       "      <td>18.155790</td>\n",
       "      <td>0.0</td>\n",
       "      <td>2.0</td>\n",
       "      <td>3.0</td>\n",
       "      <td>12.0</td>\n",
       "      <td>255.0</td>\n",
       "    </tr>\n",
       "    <tr>\n",
       "      <th>MaturitySize</th>\n",
       "      <td>14993.0</td>\n",
       "      <td>1.862002</td>\n",
       "      <td>0.547959</td>\n",
       "      <td>1.0</td>\n",
       "      <td>2.0</td>\n",
       "      <td>2.0</td>\n",
       "      <td>2.0</td>\n",
       "      <td>4.0</td>\n",
       "    </tr>\n",
       "    <tr>\n",
       "      <th>FurLength</th>\n",
       "      <td>14993.0</td>\n",
       "      <td>1.467485</td>\n",
       "      <td>0.599070</td>\n",
       "      <td>1.0</td>\n",
       "      <td>1.0</td>\n",
       "      <td>1.0</td>\n",
       "      <td>2.0</td>\n",
       "      <td>3.0</td>\n",
       "    </tr>\n",
       "    <tr>\n",
       "      <th>Vaccinated</th>\n",
       "      <td>14993.0</td>\n",
       "      <td>0.393384</td>\n",
       "      <td>0.488517</td>\n",
       "      <td>0.0</td>\n",
       "      <td>0.0</td>\n",
       "      <td>0.0</td>\n",
       "      <td>1.0</td>\n",
       "      <td>1.0</td>\n",
       "    </tr>\n",
       "    <tr>\n",
       "      <th>Dewormed</th>\n",
       "      <td>14993.0</td>\n",
       "      <td>0.560061</td>\n",
       "      <td>0.496396</td>\n",
       "      <td>0.0</td>\n",
       "      <td>0.0</td>\n",
       "      <td>1.0</td>\n",
       "      <td>1.0</td>\n",
       "      <td>1.0</td>\n",
       "    </tr>\n",
       "    <tr>\n",
       "      <th>Sterilized</th>\n",
       "      <td>14993.0</td>\n",
       "      <td>0.206830</td>\n",
       "      <td>0.405046</td>\n",
       "      <td>0.0</td>\n",
       "      <td>0.0</td>\n",
       "      <td>0.0</td>\n",
       "      <td>0.0</td>\n",
       "      <td>1.0</td>\n",
       "    </tr>\n",
       "    <tr>\n",
       "      <th>Quantity</th>\n",
       "      <td>14993.0</td>\n",
       "      <td>1.576069</td>\n",
       "      <td>1.472477</td>\n",
       "      <td>1.0</td>\n",
       "      <td>1.0</td>\n",
       "      <td>1.0</td>\n",
       "      <td>1.0</td>\n",
       "      <td>20.0</td>\n",
       "    </tr>\n",
       "    <tr>\n",
       "      <th>Fee</th>\n",
       "      <td>14993.0</td>\n",
       "      <td>21.259988</td>\n",
       "      <td>78.414548</td>\n",
       "      <td>0.0</td>\n",
       "      <td>0.0</td>\n",
       "      <td>0.0</td>\n",
       "      <td>0.0</td>\n",
       "      <td>3000.0</td>\n",
       "    </tr>\n",
       "    <tr>\n",
       "      <th>VideoAmt</th>\n",
       "      <td>14993.0</td>\n",
       "      <td>0.056760</td>\n",
       "      <td>0.346185</td>\n",
       "      <td>0.0</td>\n",
       "      <td>0.0</td>\n",
       "      <td>0.0</td>\n",
       "      <td>0.0</td>\n",
       "      <td>8.0</td>\n",
       "    </tr>\n",
       "    <tr>\n",
       "      <th>PhotoAmt</th>\n",
       "      <td>14993.0</td>\n",
       "      <td>3.889215</td>\n",
       "      <td>3.487810</td>\n",
       "      <td>0.0</td>\n",
       "      <td>2.0</td>\n",
       "      <td>3.0</td>\n",
       "      <td>5.0</td>\n",
       "      <td>30.0</td>\n",
       "    </tr>\n",
       "    <tr>\n",
       "      <th>DescrWordCount</th>\n",
       "      <td>14993.0</td>\n",
       "      <td>36.423598</td>\n",
       "      <td>38.851763</td>\n",
       "      <td>1.0</td>\n",
       "      <td>13.0</td>\n",
       "      <td>26.0</td>\n",
       "      <td>46.0</td>\n",
       "      <td>651.0</td>\n",
       "    </tr>\n",
       "    <tr>\n",
       "      <th>Name_Len</th>\n",
       "      <td>14993.0</td>\n",
       "      <td>8.504702</td>\n",
       "      <td>6.522506</td>\n",
       "      <td>0.0</td>\n",
       "      <td>4.0</td>\n",
       "      <td>6.0</td>\n",
       "      <td>11.0</td>\n",
       "      <td>45.0</td>\n",
       "    </tr>\n",
       "    <tr>\n",
       "      <th>Name_words</th>\n",
       "      <td>14993.0</td>\n",
       "      <td>1.651037</td>\n",
       "      <td>1.107671</td>\n",
       "      <td>0.0</td>\n",
       "      <td>1.0</td>\n",
       "      <td>1.0</td>\n",
       "      <td>2.0</td>\n",
       "      <td>11.0</td>\n",
       "    </tr>\n",
       "  </tbody>\n",
       "</table>\n",
       "</div>"
      ],
      "text/plain": [
       "                  count       mean        std  min   25%   50%   75%     max\n",
       "Age             14993.0  10.452078  18.155790  0.0   2.0   3.0  12.0   255.0\n",
       "MaturitySize    14993.0   1.862002   0.547959  1.0   2.0   2.0   2.0     4.0\n",
       "FurLength       14993.0   1.467485   0.599070  1.0   1.0   1.0   2.0     3.0\n",
       "Vaccinated      14993.0   0.393384   0.488517  0.0   0.0   0.0   1.0     1.0\n",
       "Dewormed        14993.0   0.560061   0.496396  0.0   0.0   1.0   1.0     1.0\n",
       "Sterilized      14993.0   0.206830   0.405046  0.0   0.0   0.0   0.0     1.0\n",
       "Quantity        14993.0   1.576069   1.472477  1.0   1.0   1.0   1.0    20.0\n",
       "Fee             14993.0  21.259988  78.414548  0.0   0.0   0.0   0.0  3000.0\n",
       "VideoAmt        14993.0   0.056760   0.346185  0.0   0.0   0.0   0.0     8.0\n",
       "PhotoAmt        14993.0   3.889215   3.487810  0.0   2.0   3.0   5.0    30.0\n",
       "DescrWordCount  14993.0  36.423598  38.851763  1.0  13.0  26.0  46.0   651.0\n",
       "Name_Len        14993.0   8.504702   6.522506  0.0   4.0   6.0  11.0    45.0\n",
       "Name_words      14993.0   1.651037   1.107671  0.0   1.0   1.0   2.0    11.0"
      ]
     },
     "execution_count": 148,
     "metadata": {},
     "output_type": "execute_result"
    }
   ],
   "source": [
    "df.describe().T"
   ]
  },
  {
   "cell_type": "code",
   "execution_count": 149,
   "metadata": {
    "colab": {
     "base_uri": "https://localhost:8080/",
     "height": 472
    },
    "id": "ZOv_KjUY1HtQ",
    "outputId": "30830693-8b12-482d-eb5c-0dbd79e03833"
   },
   "outputs": [
    {
     "data": {
      "image/png": "[encoded data removed]",
      "text/plain": [
       "<Figure size 640x480 with 1 Axes>"
      ]
     },
     "metadata": {},
     "output_type": "display_data"
    }
   ],
   "source": [
    "df['Age'].hist()\n",
    "plt.title('Distribution of Age')\n",
    "plt.xlabel('Age (Months)')\n",
    "plt.ylabel('Count')\n",
    "plt.show()"
   ]
  },
  {
   "cell_type": "code",
   "execution_count": 150,
   "metadata": {
    "id": "xKUm569B0txL"
   },
   "outputs": [],
   "source": [
    "age_filt_train = df[(df['Age'] >= 0) & (df['Age'] <= 100)]"
   ]
  },
  {
   "cell_type": "code",
   "execution_count": 151,
   "metadata": {
    "colab": {
     "base_uri": "https://localhost:8080/",
     "height": 472
    },
    "id": "3cpfWWNf0tzC",
    "outputId": "1afa20f1-365e-4287-8276-4169f267ae5a"
   },
   "outputs": [
    {
     "data": {
      "image/png": "[encoded data removed]",
      "text/plain": [
       "<Figure size 640x480 with 1 Axes>"
      ]
     },
     "metadata": {},
     "output_type": "display_data"
    }
   ],
   "source": [
    "age_filt_train['Age'].hist()\n",
    "plt.title('Distribution of Age (0 to 100)')\n",
    "plt.xlabel('Age (Months)')\n",
    "plt.ylabel('Count')\n",
    "plt.show()"
   ]
  },
  {
   "cell_type": "code",
   "execution_count": 152,
   "metadata": {
    "colab": {
     "base_uri": "https://localhost:8080/",
     "height": 427
    },
    "id": "IVvLV1W50t1B",
    "outputId": "26709ad2-2451-4cab-c608-bc949d19ee3f"
   },
   "outputs": [
    {
     "data": {
      "image/png": "[encoded data removed]",
      "text/plain": [
       "<Figure size 1000x600 with 1 Axes>"
      ]
     },
     "metadata": {},
     "output_type": "display_data"
    }
   ],
   "source": [
    "plt.figure(figsize=(10, 6))\n",
    "df['AdoptionSpeed'].hist(bins=range(0, 5 + 1), rwidth=0.8, align='left', color='cyan', edgecolor='black')\n",
    "plt.title('Distribution of Adoption Speed')\n",
    "plt.xlabel('Adoption Speed')\n",
    "plt.ylabel('Count')\n",
    "plt.xticks(range(0, 5))\n",
    "plt.grid(axis='y', alpha=0.75)\n",
    "\n",
    "plt.show()"
   ]
  },
  {
   "cell_type": "code",
   "execution_count": 153,
   "metadata": {
    "colab": {
     "base_uri": "https://localhost:8080/"
    },
    "id": "hSYYYJJ20t3B",
    "outputId": "ce1032a5-8668-4dd9-a4a6-7c1b6f5f2e70"
   },
   "outputs": [
    {
     "data": {
      "text/plain": [
       "Type\n",
       "Dog    8132\n",
       "Cat    6861\n",
       "Name: count, dtype: int64"
      ]
     },
     "execution_count": 153,
     "metadata": {},
     "output_type": "execute_result"
    }
   ],
   "source": [
    "df['Type'].value_counts()"
   ]
  },
  {
   "cell_type": "code",
   "execution_count": 154,
   "metadata": {
    "colab": {
     "base_uri": "https://localhost:8080/",
     "height": 472
    },
    "id": "LbDvJ6pd0t45",
    "outputId": "5b18dcb3-6787-49ad-8bdd-8ca57fc787f9"
   },
   "outputs": [
    {
     "data": {
      "image/png": "[encoded data removed]",
      "text/plain": [
       "<Figure size 640x480 with 1 Axes>"
      ]
     },
     "metadata": {},
     "output_type": "display_data"
    }
   ],
   "source": [
    "df['Type'].value_counts().plot(kind='bar')\n",
    "plt.title('Distribution of Type')\n",
    "plt.xlabel('Type')\n",
    "plt.ylabel('Count')\n",
    "plt.xticks(ticks=[0, 1], labels=['Dog', 'Cat'], rotation='horizontal')\n",
    "plt.show()"
   ]
  },
  {
   "cell_type": "code",
   "execution_count": 155,
   "metadata": {
    "colab": {
     "base_uri": "https://localhost:8080/",
     "height": 438
    },
    "id": "N9DS757E0t7F",
    "outputId": "7bc72098-f46b-409e-eb35-fe74d74f64dc"
   },
   "outputs": [
    {
     "data": {
      "image/png": "[encoded data removed]",
      "text/plain": [
       "<Figure size 640x480 with 1 Axes>"
      ]
     },
     "metadata": {},
     "output_type": "display_data"
    }
   ],
   "source": [
    "sns.scatterplot(x='Age', y='AdoptionSpeed', data=df)\n",
    "plt.show()"
   ]
  },
  {
   "cell_type": "code",
   "execution_count": 156,
   "metadata": {
    "colab": {
     "base_uri": "https://localhost:8080/"
    },
    "id": "CAcj3Ohl0t-K",
    "outputId": "93c08d5a-9b51-42df-8eb8-310a84d7fbf2"
   },
   "outputs": [
    {
     "data": {
      "text/plain": [
       "AdoptionSpeed\n",
       "Not Adopted        0.279931\n",
       "1st Month          0.269259\n",
       "2nd & 3rd Month    0.217368\n",
       "1st Week           0.206096\n",
       "Same-Day           0.027346\n",
       "Name: count, dtype: float64"
      ]
     },
     "execution_count": 156,
     "metadata": {},
     "output_type": "execute_result"
    }
   ],
   "source": [
    "df['AdoptionSpeed'].value_counts()/len(df)"
   ]
  },
  {
   "cell_type": "code",
   "execution_count": 157,
   "metadata": {
    "id": "NyfD8u130uI4"
   },
   "outputs": [],
   "source": [
    "df['Name'].fillna('BLANK',inplace=True)"
   ]
  },
  {
   "cell_type": "code",
   "execution_count": 158,
   "metadata": {},
   "outputs": [],
   "source": [
    "df_copy=df.copy()"
   ]
  },
  {
   "cell_type": "code",
   "execution_count": 159,
   "metadata": {
    "id": "30tdsx-W1Y33"
   },
   "outputs": [],
   "source": [
    "### Name Column Word2Vec"
   ]
  },
  {
   "cell_type": "code",
   "execution_count": 160,
   "metadata": {
    "id": "3_zn-d8D1Y7X"
   },
   "outputs": [],
   "source": [
    "### Preparing data for w2v\n",
    "#### it requires a list of sentences as its input, where each sentence is a list of words.\n",
    "\n",
    "pet_names = list(df['Name'])\n",
    "\n",
    "# tokenize\n",
    "sentences = [str(name).lower().split() for name in pet_names]"
   ]
  },
  {
   "cell_type": "code",
   "execution_count": 161,
   "metadata": {
    "id": "VdGQ3pkM1Wnp"
   },
   "outputs": [],
   "source": [
    "### train word2vec\n",
    "from gensim.models import Word2Vec\n",
    "\n",
    "# train model\n",
    "model_names = Word2Vec(sentences, vector_size=100, window=5, min_count=1, workers=4)\n",
    "# save model\n",
    "model_names.save(\"pet_names_word2vec_v1.model\")"
   ]
  },
  {
   "cell_type": "code",
   "execution_count": 162,
   "metadata": {
    "id": "YibDD2_O1WqZ"
   },
   "outputs": [],
   "source": [
    "import numpy as np"
   ]
  },
  {
   "cell_type": "code",
   "execution_count": 163,
   "metadata": {
    "id": "_tz8-P3a1WtE"
   },
   "outputs": [],
   "source": [
    "## add the vectors to model\n",
    "### To predict the speed of pet adoption,  average the vectors of all words in a pet name\n",
    "#### this will create a fixed-sized input vector for each pet name, which can be used for the feature set \n",
    "\n",
    "\n",
    "\n",
    "\n",
    "def average_vector(name):\n",
    "    name=str(name)\n",
    "    words = name.lower().split()\n",
    "    vectors = [model_names.wv[word] for word in words if word in model_names.wv]\n",
    "    if vectors:\n",
    "        return np.mean(vectors, axis=0)\n",
    "    else:\n",
    "        return np.zeros(model_names.vector_size)\n",
    "\n",
    "# use it on all of the pet names\n",
    "name_vectors = np.array([average_vector(name) for name in pet_names])\n"
   ]
  },
  {
   "cell_type": "code",
   "execution_count": 164,
   "metadata": {
    "colab": {
     "base_uri": "https://localhost:8080/"
    },
    "id": "v6zsz2iH1Wvl",
    "outputId": "b5eb1825-c92c-427b-bf9a-17aade77080c"
   },
   "outputs": [
    {
     "data": {
      "text/plain": [
       "(6288, 14993)"
      ]
     },
     "execution_count": 164,
     "metadata": {},
     "output_type": "execute_result"
    }
   ],
   "source": [
    "len(pet_names)-len(set(pet_names)),len(pet_names)\n",
    "# We have 5933 repeated names, from a total of 14993 pet names"
   ]
  },
  {
   "cell_type": "code",
   "execution_count": 165,
   "metadata": {
    "id": "8GVxtSQd1WyQ"
   },
   "outputs": [
    {
     "data": {
      "text/plain": [
       "100"
      ]
     },
     "execution_count": 165,
     "metadata": {},
     "output_type": "execute_result"
    }
   ],
   "source": [
    "len(name_vectors[0])"
   ]
  },
  {
   "cell_type": "markdown",
   "metadata": {
    "id": "DkbqpzO81ii_"
   },
   "source": [
    "#### Integrating the vectors into our dataset\n",
    "\n",
    "For each dimension of the word2vec space, you'll have a column for that in your dataframe, ours has 100\n"
   ]
  },
  {
   "cell_type": "code",
   "execution_count": 166,
   "metadata": {
    "id": "h8F0wBvo1W01"
   },
   "outputs": [],
   "source": [
    "# create column names for the vector-based columns\n",
    "vector_columns=[f'NameVec_{i+1}' for i in range(name_vectors.shape[1])]"
   ]
  },
  {
   "cell_type": "code",
   "execution_count": 167,
   "metadata": {
    "colab": {
     "base_uri": "https://localhost:8080/",
     "height": 161
    },
    "id": "V_jSxodn1W3S",
    "outputId": "7f8fd71b-2777-4e69-b2f2-9d91c0080b09"
   },
   "outputs": [
    {
     "data": {
      "text/html": [
       "<div>\n",
       "<style scoped>\n",
       "    .dataframe tbody tr th:only-of-type {\n",
       "        vertical-align: middle;\n",
       "    }\n",
       "\n",
       "    .dataframe tbody tr th {\n",
       "        vertical-align: top;\n",
       "    }\n",
       "\n",
       "    .dataframe thead th {\n",
       "        text-align: right;\n",
       "    }\n",
       "</style>\n",
       "<table border=\"1\" class=\"dataframe\">\n",
       "  <thead>\n",
       "    <tr style=\"text-align: right;\">\n",
       "      <th></th>\n",
       "      <th>NameVec_1</th>\n",
       "      <th>NameVec_2</th>\n",
       "      <th>NameVec_3</th>\n",
       "      <th>NameVec_4</th>\n",
       "      <th>NameVec_5</th>\n",
       "      <th>NameVec_6</th>\n",
       "      <th>NameVec_7</th>\n",
       "      <th>NameVec_8</th>\n",
       "      <th>NameVec_9</th>\n",
       "      <th>NameVec_10</th>\n",
       "      <th>...</th>\n",
       "      <th>NameVec_91</th>\n",
       "      <th>NameVec_92</th>\n",
       "      <th>NameVec_93</th>\n",
       "      <th>NameVec_94</th>\n",
       "      <th>NameVec_95</th>\n",
       "      <th>NameVec_96</th>\n",
       "      <th>NameVec_97</th>\n",
       "      <th>NameVec_98</th>\n",
       "      <th>NameVec_99</th>\n",
       "      <th>NameVec_100</th>\n",
       "    </tr>\n",
       "  </thead>\n",
       "  <tbody>\n",
       "    <tr>\n",
       "      <th>0</th>\n",
       "      <td>-0.005467</td>\n",
       "      <td>0.007805</td>\n",
       "      <td>-0.009834</td>\n",
       "      <td>-0.001764</td>\n",
       "      <td>-0.005681</td>\n",
       "      <td>0.002639</td>\n",
       "      <td>-0.006038</td>\n",
       "      <td>-0.009147</td>\n",
       "      <td>0.002002</td>\n",
       "      <td>-0.006709</td>\n",
       "      <td>...</td>\n",
       "      <td>0.002994</td>\n",
       "      <td>0.007085</td>\n",
       "      <td>0.008256</td>\n",
       "      <td>0.004820</td>\n",
       "      <td>0.001259</td>\n",
       "      <td>0.003595</td>\n",
       "      <td>-0.000602</td>\n",
       "      <td>-0.009704</td>\n",
       "      <td>0.006833</td>\n",
       "      <td>-0.000725</td>\n",
       "    </tr>\n",
       "    <tr>\n",
       "      <th>1</th>\n",
       "      <td>0.003635</td>\n",
       "      <td>0.011765</td>\n",
       "      <td>-0.001237</td>\n",
       "      <td>0.013523</td>\n",
       "      <td>-0.009234</td>\n",
       "      <td>-0.008574</td>\n",
       "      <td>0.007707</td>\n",
       "      <td>0.013182</td>\n",
       "      <td>-0.000819</td>\n",
       "      <td>-0.000936</td>\n",
       "      <td>...</td>\n",
       "      <td>0.002366</td>\n",
       "      <td>0.012769</td>\n",
       "      <td>-0.016072</td>\n",
       "      <td>-0.010125</td>\n",
       "      <td>-0.008849</td>\n",
       "      <td>-0.006156</td>\n",
       "      <td>-0.004040</td>\n",
       "      <td>0.013268</td>\n",
       "      <td>0.013852</td>\n",
       "      <td>0.020306</td>\n",
       "    </tr>\n",
       "  </tbody>\n",
       "</table>\n",
       "<p>2 rows × 100 columns</p>\n",
       "</div>"
      ],
      "text/plain": [
       "   NameVec_1  NameVec_2  NameVec_3  NameVec_4  NameVec_5  NameVec_6  \\\n",
       "0  -0.005467   0.007805  -0.009834  -0.001764  -0.005681   0.002639   \n",
       "1   0.003635   0.011765  -0.001237   0.013523  -0.009234  -0.008574   \n",
       "\n",
       "   NameVec_7  NameVec_8  NameVec_9  NameVec_10  ...  NameVec_91  NameVec_92  \\\n",
       "0  -0.006038  -0.009147   0.002002   -0.006709  ...    0.002994    0.007085   \n",
       "1   0.007707   0.013182  -0.000819   -0.000936  ...    0.002366    0.012769   \n",
       "\n",
       "   NameVec_93  NameVec_94  NameVec_95  NameVec_96  NameVec_97  NameVec_98  \\\n",
       "0    0.008256    0.004820    0.001259    0.003595   -0.000602   -0.009704   \n",
       "1   -0.016072   -0.010125   -0.008849   -0.006156   -0.004040    0.013268   \n",
       "\n",
       "   NameVec_99  NameVec_100  \n",
       "0    0.006833    -0.000725  \n",
       "1    0.013852     0.020306  \n",
       "\n",
       "[2 rows x 100 columns]"
      ]
     },
     "execution_count": 167,
     "metadata": {},
     "output_type": "execute_result"
    }
   ],
   "source": [
    "vector_df=pd.DataFrame(name_vectors,columns=vector_columns)\n",
    "vector_df.head(2)"
   ]
  },
  {
   "cell_type": "code",
   "execution_count": 168,
   "metadata": {
    "id": "nrhCTsmN1W6A"
   },
   "outputs": [],
   "source": [
    "# add it back to our dataframe\n",
    "df = pd.concat([df.reset_index(drop=True), vector_df.reset_index(drop=True)], axis=1)"
   ]
  },
  {
   "cell_type": "code",
   "execution_count": 169,
   "metadata": {},
   "outputs": [
    {
     "name": "stdout",
     "output_type": "stream",
     "text": [
      "Model Accuracy: 0.3855\n"
     ]
    }
   ],
   "source": [
    "import lightgbm as lgb\n",
    "from sklearn.model_selection import train_test_split\n",
    "from sklearn.preprocessing import MinMaxScaler, OneHotEncoder\n",
    "from sklearn.compose import ColumnTransformer\n",
    "from sklearn.pipeline import Pipeline\n",
    "from sklearn.metrics import accuracy_score\n",
    "\n",
    "\n",
    "\n",
    "\n",
    "#  features and target\n",
    "X = df.drop('AdoptionSpeed', axis=1)\n",
    "y = df['AdoptionSpeed']\n",
    "\n",
    "categorical_features = X.select_dtypes(include=['object', 'category']).columns.tolist()\n",
    "numerical_features = X.select_dtypes(include=['int64', 'float64']).columns.tolist()\n",
    "\n",
    "\n",
    "\n",
    "# all categorical items to string to avoid issues\n",
    "for col in categorical_features:\n",
    "    df[col] = df[col].astype(str)\n",
    "\n",
    "\n",
    "\n",
    "X = df.drop('AdoptionSpeed', axis=1)\n",
    "y = df['AdoptionSpeed']\n",
    "\n",
    "\n",
    "# preprocess\n",
    "preprocessor = ColumnTransformer(\n",
    "    transformers=[\n",
    "        ('num', MinMaxScaler(), numerical_features),\n",
    "        ('cat', OneHotEncoder(handle_unknown='ignore'), categorical_features)\n",
    "    ])\n",
    "\n",
    "# define lgbm model with pipeline\n",
    "clf = Pipeline(steps=[('preprocessor', preprocessor),\n",
    "                      ('classifier', lgb.LGBMClassifier())])\n",
    "\n",
    "\n",
    "X_train, X_test, y_train, y_test = train_test_split(X, y, test_size=0.2, random_state=42)\n",
    "\n",
    "\n",
    "clf.fit(X_train, y_train)\n",
    "\n",
    "y_pred = clf.predict(X_test)\n",
    "\n",
    "probabilities = clf.predict_proba(X_test)\n",
    "\n",
    "# df for probabilities\n",
    "prob_df = pd.DataFrame(probabilities, columns=clf.named_steps['classifier'].classes_)\n",
    "prob_df['predicted_class'] = y_pred\n",
    "\n",
    "# eval model\n",
    "accuracy = accuracy_score(y_test, y_pred)\n",
    "print(f\"Model Accuracy: {accuracy:.4f}\")\n"
   ]
  },
  {
   "cell_type": "markdown",
   "metadata": {},
   "source": [
    "### Looks like the word2vec name columns didn't help, so we'll go back to before we added that\n"
   ]
  },
  {
   "cell_type": "code",
   "execution_count": 170,
   "metadata": {},
   "outputs": [],
   "source": [
    "df=df_copy.copy()\n",
    "df_copy=df.copy()"
   ]
  },
  {
   "cell_type": "code",
   "execution_count": 171,
   "metadata": {
    "id": "kQPG74Ni1W8k"
   },
   "outputs": [],
   "source": [
    "### Word2Vec Descriptions"
   ]
  },
  {
   "cell_type": "code",
   "execution_count": 172,
   "metadata": {
    "id": "Nm62Es1n1W-_"
   },
   "outputs": [],
   "source": [
    "## Repeat the Process for the descriptions\n",
    "\n",
    "descriptions = list(df['Description'])\n",
    "\n",
    "descr_sentences = [str(word).lower().split() for word in descriptions]\n",
    "\n",
    "model_descr = Word2Vec(sentences, vector_size=100, window=5, min_count=1, workers=4)\n",
    "\n",
    "\n",
    "model_descr.save(\"descr_word2vec_v1.model\")\n",
    "\n",
    "\n",
    "def average_vector_descr(descr):\n",
    "    descr=str(descr)\n",
    "    words = descr.lower().split()\n",
    "\n",
    "    vectors = [model_descr.wv[word] for word in words if word in model_descr.wv]\n",
    "\n",
    "    if vectors:\n",
    "\t# if vectors exists, return the mean\n",
    "        return np.mean(vectors, axis=0)\n",
    "    else:\n",
    "\t# otherwise, if vectors wasn't able to be understood by the model, then just create a row of zeroes\n",
    "        return np.zeros(model_descr.vector_size)\n",
    "\n",
    "\n",
    "descr_vectors = np.array([average_vector(descr) for descr in descriptions])\n"
   ]
  },
  {
   "cell_type": "code",
   "execution_count": 173,
   "metadata": {
    "id": "elUeQeEE1XBv"
   },
   "outputs": [],
   "source": [
    "\n",
    "vector_columns=[f'DescrVec_{i+1}' for i in range(descr_vectors.shape[1])]\n",
    "vector_df=pd.DataFrame(name_vectors,columns=vector_columns)\n",
    "df = pd.concat([df.reset_index(drop=True), vector_df.reset_index(drop=True)], axis=1)"
   ]
  },
  {
   "cell_type": "code",
   "execution_count": 174,
   "metadata": {
    "colab": {
     "base_uri": "https://localhost:8080/"
    },
    "id": "lIQ53AfP1XEe",
    "outputId": "222134fc-6013-4cc2-827b-f3a9217dff2c"
   },
   "outputs": [
    {
     "name": "stdout",
     "output_type": "stream",
     "text": [
      "Model Accuracy: 0.3855\n"
     ]
    }
   ],
   "source": [
    "\n",
    "\n",
    "\n",
    "\n",
    "#  features and target\n",
    "X = df.drop('AdoptionSpeed', axis=1)\n",
    "y = df['AdoptionSpeed']\n",
    "\n",
    "categorical_features = X.select_dtypes(include=['object', 'category']).columns.tolist()\n",
    "numerical_features = X.select_dtypes(include=['int64', 'float64']).columns.tolist()\n",
    "\n",
    "\n",
    "\n",
    "for col in categorical_features:\n",
    "    df[col] = df[col].astype(str)\n",
    "\n",
    "\n",
    "\n",
    "X = df.drop('AdoptionSpeed', axis=1)\n",
    "y = df['AdoptionSpeed']\n",
    "\n",
    "\n",
    "\n",
    "preprocessor = ColumnTransformer(\n",
    "    transformers=[\n",
    "        ('num', MinMaxScaler(), numerical_features),\n",
    "        ('cat', OneHotEncoder(handle_unknown='ignore'), categorical_features)\n",
    "    ])\n",
    "\n",
    "\n",
    "clf = Pipeline(steps=[('preprocessor', preprocessor),\n",
    "                      ('classifier', lgb.LGBMClassifier())])\n",
    "\n",
    "\n",
    "X_train, X_test, y_train, y_test = train_test_split(X, y, test_size=0.2, random_state=42)\n",
    "\n",
    "\n",
    "clf.fit(X_train, y_train)\n",
    "\n",
    "y_pred = clf.predict(X_test)\n",
    "\n",
    "probabilities = clf.predict_proba(X_test)\n",
    "\n",
    "# df for probabilities\n",
    "prob_df = pd.DataFrame(probabilities, columns=clf.named_steps['classifier'].classes_)\n",
    "prob_df['predicted_class'] = y_pred\n",
    "\n",
    "# eval model\n",
    "accuracy = accuracy_score(y_test, y_pred)\n",
    "print(f\"Model Accuracy: {accuracy:.4f}\")\n"
   ]
  },
  {
   "cell_type": "markdown",
   "metadata": {
    "id": "Sde9lIm61t9g"
   },
   "source": [
    "### Looks like the word2vec columns for descriptions didn't help either\n",
    "#### we'll go back"
   ]
  },
  {
   "cell_type": "code",
   "execution_count": 175,
   "metadata": {},
   "outputs": [],
   "source": [
    "df=df_copy.copy()"
   ]
  },
  {
   "cell_type": "code",
   "execution_count": 176,
   "metadata": {
    "id": "LfpOBdhp1q_h"
   },
   "outputs": [],
   "source": [
    "df['Description'] = df['Description'].fillna('For Adoption')"
   ]
  },
  {
   "cell_type": "code",
   "execution_count": 177,
   "metadata": {
    "colab": {
     "base_uri": "https://localhost:8080/"
    },
    "id": "M8Etf8di1rCP",
    "outputId": "2e610dd2-ed6b-4fb8-bb03-d913da53b009"
   },
   "outputs": [
    {
     "data": {
      "text/plain": [
       "array([\"nibble 3+ month old ball cuteness. energetic playful. rescued couple cat month ago could get neutered time clinic fully scheduled. result little kitty. enough space fund care cat household. looking responsible people take nibble's care.\",\n",
       "       'found alone yesterday near apartment. shaking bring home provide temporary care.',\n",
       "       'pregnant mother dumped irresponsible owner roadside near shop subang jaya. gave birth roadside. healthy adorable puppies. already dewormed, vaccinated ready go home. tying caging long hour guard dogs. however, acceptable cage tie precautionary purposes. interested adopt pls call me.',\n",
       "       ..., 'mix breed, good temperament kittens. love humans. friendly.',\n",
       "       'shy..adventures independent..she hate cages..but love climbing tree rooftops..however loving.',\n",
       "       'fili love laying around also love sun; laidback quiet.'],\n",
       "      dtype=object)"
      ]
     },
     "execution_count": 177,
     "metadata": {},
     "output_type": "execute_result"
    }
   ],
   "source": [
    "pd.set_option('display.max_colwidth', None)\n",
    "texts = df['Description'].values\n",
    "texts"
   ]
  },
  {
   "cell_type": "markdown",
   "metadata": {},
   "source": [
    "## Sentiment Analysis"
   ]
  },
  {
   "cell_type": "code",
   "execution_count": 52,
   "metadata": {
    "colab": {
     "base_uri": "https://localhost:8080/",
     "height": 804,
     "referenced_widgets": [
      "0293b802b4da4d1bade3b754aa9248bf",
      "82590726cfa84356ae9e637b436500d6",
      "9ead0b8b1a124f14affd95289d6a57c9",
      "ccda477a2ff64842957058b1b3a8492d",
      "c793d60b83cb4c13b515edf404b77e17",
      "5eb096bd3bec42b7a246a15c04cf2ec8",
      "4bf0e26852dc44c6bbc55e386cb06699",
      "d489cb4c730940448f825f2a25078499",
      "7439a62437584d48a40545490505f7d9",
      "9abc5ebe733c4bb7a056ee9d806a3c1a",
      "1306a6394aec4f21b63b836d011a3312",
      "eed0fb7c8c904837b393c0d55603a40c",
      "29862f9fd8a345e6bc0d803340480f3d",
      "d54ef9fdc3f64b26971f025af0fbf521",
      "78044b34b38a45d3af8b5c167843e40e",
      "7394fbadf5fa49149d26b73d0413e5af",
      "3e1e4c202ed244f88b70badf7eea63d1",
      "6fe26e1cd8ad463c904c8a9cd46d29ed",
      "78bce5de5d14472898c92f8ee341aed4",
      "eef7c11329a54f02972cb2baa9326e9e",
      "963b508bbb564dcfb6c19de1eee5d648",
      "2ae2e55be664482da3798cec00bd0f2d",
      "635e6088f36f49b790a71d1ea6ee4a10",
      "90ad1fba60d3446c89ad89e11843a7e4",
      "648c9e0df6ce4bfc933020f0c3894f3a",
      "17c0bc06624a4f818d32272cde0a7c49",
      "cbe90e390eb74d8f8b8c727348be5a4f",
      "c0b5f3868d3e4617a7ffec4ce2227a20",
      "2ee79e6c4e1946028492ecf882d0390a",
      "9e7015c613c742ea905f76f899047165",
      "10d8eb64e22d49fba5861d36b0638dd7",
      "25d32258dc0b4eaf9805c47f6d521032",
      "dbd1eb125278423fa00775534f872361",
      "e0fd5fbf5d224a74a19e0c13d2c2643d",
      "7fff0ea1d11946b6a6423c61656a4b4a",
      "972b2d06e97c473f830d3d49192c1e72",
      "33c2e4e9f59c48b693637b66cb8c58a9",
      "ee721cbb6c054d469bf58d238df20ff9",
      "da16bda1a308423db6b0021debec2d40",
      "c4633ed59c3849ae81e6d10ec6eeded6",
      "37f444ac7f4149358a8470deb8cd84dd",
      "189e8001587e45e0a848eec1f287c63a",
      "53f1553191584387b8560d5a0549e048",
      "f4633054036347ee89c24e67b28edeee",
      "adf048ac3bcf4e7886e5bff33013f246",
      "706dbb4d48db4f29a41feabcdfc88468",
      "00e0fd3b96f14b0fa5cb4ff1811a926a",
      "ec46e409fbf24737b17bdb7034e883ff",
      "b65acf2ce139425e8cf14ae68dabc6dc",
      "7649e2793d8d402cb5ad8b6cce4054c6",
      "b17381f05e0b467b9cc5210f92526141",
      "5f2ea4581c3a48dea11f769d853d3903",
      "7bf5b9187dc549019e378aeac83811f8",
      "4c0604af60a747c696ae51dc4fbc108a",
      "1076abdbe66a4d9ab5b096a188c9d0c2"
     ]
    },
    "id": "no6E8p291rG-",
    "outputId": "1c877acb-fdcd-4885-bb38-327af5a67ecf"
   },
   "outputs": [
    {
     "name": "stderr",
     "output_type": "stream",
     "text": [
      "\n",
      "KeyboardInterrupt\n",
      "\n"
     ]
    }
   ],
   "source": [
    "import torch\n",
    "from transformers import AutoTokenizer, AutoModelForSequenceClassification\n",
    "\n",
    "model_name = \"monologg/bert-base-cased-goemotions-original\"\n",
    "tokenizer = AutoTokenizer.from_pretrained(model_name)\n",
    "model = AutoModelForSequenceClassification.from_pretrained(model_name)\n",
    "\n",
    "senti = np.array([])\n",
    "for text in texts:\n",
    "\n",
    "    inputs = tokenizer(text, padding=True, truncation=True, return_tensors=\"pt\")\n",
    "\n",
    "    outputs = model(**inputs)\n",
    "\n",
    "    predicted_label_id = torch.argmax(outputs.logits, dim=1).item()\n",
    "    predicted_emotion = model.config.id2label[predicted_label_id]\n",
    "\n",
    "    senti = np.append(senti, predicted_emotion)\n",
    "\n",
    "pred_df = pd.DataFrame({'Text': texts, 'Sentiment': senti})\n",
    "pred_df.to_csv('Emotion_Detection', index=False)\n",
    "print(pred_df)"
   ]
  },
  {
   "cell_type": "code",
   "execution_count": 60,
   "metadata": {
    "colab": {
     "base_uri": "https://localhost:8080/"
    },
    "id": "yygZyLjn1rJt",
    "outputId": "dfaf181f-f3d2-496d-c0ab-0cb427137fb3"
   },
   "outputs": [
    {
     "data": {
      "text/plain": [
       "Sentiment\n",
       "neutral           6653\n",
       "love              2888\n",
       "admiration        2018\n",
       "gratitude         1058\n",
       "caring            1017\n",
       "optimism           464\n",
       "approval           214\n",
       "fear               136\n",
       "joy                130\n",
       "curiosity          115\n",
       "sadness             95\n",
       "desire              57\n",
       "amusement           44\n",
       "surprise            20\n",
       "excitement          15\n",
       "disappointment      14\n",
       "annoyance           12\n",
       "remorse             10\n",
       "disapproval         10\n",
       "realization          8\n",
       "confusion            5\n",
       "nervousness          4\n",
       "anger                2\n",
       "disgust              2\n",
       "embarrassment        1\n",
       "relief               1\n",
       "Name: count, dtype: int64"
      ]
     },
     "execution_count": 60,
     "metadata": {},
     "output_type": "execute_result"
    }
   ],
   "source": [
    "pred_df['Sentiment'].value_counts()"
   ]
  },
  {
   "cell_type": "code",
   "execution_count": 61,
   "metadata": {
    "colab": {
     "base_uri": "https://localhost:8080/"
    },
    "id": "_th_UfTP1rMQ",
    "outputId": "c1b28593-b69a-4f19-f6dd-677eaa6df789"
   },
   "outputs": [
    {
     "data": {
      "text/plain": [
       "(14993, 14993)"
      ]
     },
     "execution_count": 61,
     "metadata": {},
     "output_type": "execute_result"
    }
   ],
   "source": [
    "len(pred_df),len(df)"
   ]
  },
  {
   "cell_type": "code",
   "execution_count": 62,
   "metadata": {},
   "outputs": [],
   "source": [
    "pred_df.to_csv('pred_df.csv')"
   ]
  },
  {
   "cell_type": "code",
   "execution_count": 63,
   "metadata": {
    "id": "PA-kUgCK0uL9"
   },
   "outputs": [],
   "source": [
    "df['Sentiment']=pred_df['Sentiment'].values\n",
    "df.to_csv('df_new.csv')"
   ]
  },
  {
   "cell_type": "code",
   "execution_count": 30,
   "metadata": {},
   "outputs": [
    {
     "data": {
      "text/plain": [
       "(14993, 14993)"
      ]
     },
     "execution_count": 30,
     "metadata": {},
     "output_type": "execute_result"
    }
   ],
   "source": [
    "len(pd.read_csv('pred_df.csv')),len(df)"
   ]
  },
  {
   "cell_type": "markdown",
   "metadata": {},
   "source": [
    "## Modeling "
   ]
  },
  {
   "cell_type": "code",
   "execution_count": 178,
   "metadata": {},
   "outputs": [
    {
     "name": "stderr",
     "output_type": "stream",
     "text": [
      "DataFrame.applymap has been deprecated. Use DataFrame.map instead.\n"
     ]
    }
   ],
   "source": [
    "df=pd.read_csv('df_new.csv',encoding='latin1')\n",
    "df = df.applymap(lambda x: x.encode('latin1').decode('utf-8') if isinstance(x, str) else x)"
   ]
  },
  {
   "cell_type": "code",
   "execution_count": null,
   "metadata": {
    "id": "7UJ-gV-m2rN0",
    "scrolled": true
   },
   "outputs": [
    {
     "name": "stdout",
     "output_type": "stream",
     "text": [
      "Fitting 5 folds for each of 10 candidates, totalling 50 fits\n"
     ]
    }
   ],
   "source": [
    "from sklearn.model_selection import train_test_split, RandomizedSearchCV\n",
    "\n",
    "\n",
    "\n",
    "X = df.drop('AdoptionSpeed', axis=1)\n",
    "y = df['AdoptionSpeed']\n",
    "\n",
    "categorical_features = X.select_dtypes(include=['object', 'category']).columns.tolist()\n",
    "numerical_features = X.select_dtypes(include=['int64', 'float64']).columns.tolist()\n",
    "\n",
    "\n",
    "for col in categorical_features:\n",
    "    df[col] = df[col].astype(str)\n",
    "\n",
    "X = df.drop('AdoptionSpeed', axis=1)\n",
    "y = df['AdoptionSpeed']\n",
    "\n",
    "\n",
    "preprocessor = ColumnTransformer(\n",
    "    transformers=[\n",
    "        ('num', MinMaxScaler(), numerical_features),\n",
    "        ('cat', OneHotEncoder(handle_unknown='ignore'), categorical_features)\n",
    "    ])\n",
    "\n",
    "\n",
    "clf = Pipeline(steps=[('preprocessor', preprocessor),\n",
    "                      ('classifier', lgb.LGBMClassifier())])\n",
    "\n",
    "# grid of parameters for lgbm\n",
    "param_grid = {\n",
    "    'classifier__num_leaves': [31, 50, 100],\n",
    "    'classifier__max_depth': [-1, 10, 20, 40],\n",
    "    'classifier__learning_rate': [0.01, 0.05, 0.1],\n",
    "    'classifier__n_estimators': [100, 200, 500]\n",
    "}\n",
    "\n",
    "# RandomizedSearchCV setup\n",
    "random_search = RandomizedSearchCV(clf, param_distributions=param_grid, n_iter=10,\n",
    "                                   scoring='accuracy', cv=5, verbose=1, random_state=42)\n",
    "\n",
    "X_train, X_test, y_train, y_test = train_test_split(X, y, test_size=0.2, random_state=42)\n",
    "\n",
    "# fit RandomizedSearchCV\n",
    "random_search.fit(X_train, y_train)\n",
    "\n",
    "print(\"Best parameters found: \", random_search.best_params_)\n",
    "\n",
    "# use the best one to predict\n",
    "y_pred = random_search.predict(X_test)\n",
    "\n",
    "# calculate accuracy\n",
    "accuracy = accuracy_score(y_test, y_pred)\n",
    "print(f\"Model Accuracy with Hyperparameter Tuning: {accuracy:.4f}\")\n"
   ]
  },
  {
   "cell_type": "markdown",
   "metadata": {
    "id": "-C6WM7r146-V"
   },
   "source": [
    "## The best outcome in the model was only 41% when predicting adoption speed, so we move to simply predicting adoption as a binary."
   ]
  },
  {
   "cell_type": "code",
   "execution_count": null,
   "metadata": {},
   "outputs": [],
   "source": [
    "df=pd.read_csv('df_new.csv',encoding='latin1')\n",
    "df = df.applymap(lambda x: x.encode('latin1').decode('utf-8') if isinstance(x, str) else x)\n",
    "df['ADOPTED_YN'] = (df['AdoptionSpeed'] != 'Not Adopted').astype(int)\n",
    "df.drop(['AdoptionSpeed'],axis=1,inplace=True)"
   ]
  },
  {
   "cell_type": "code",
   "execution_count": null,
   "metadata": {},
   "outputs": [],
   "source": [
    "df.drop(['Unnamed: 0','Name','Description'],axis=1,inplace=True)"
   ]
  },
  {
   "cell_type": "code",
   "execution_count": null,
   "metadata": {},
   "outputs": [],
   "source": [
    "!pip install lightgbm==2.0.3"
   ]
  },
  {
   "cell_type": "code",
   "execution_count": 103,
   "metadata": {},
   "outputs": [
    {
     "data": {
      "image/png": "[encoded data removed]",
      "text/plain": [
       "<Figure size 1000x600 with 1 Axes>"
      ]
     },
     "metadata": {},
     "output_type": "display_data"
    },
    {
     "name": "stdout",
     "output_type": "stream",
     "text": [
      "Model Accuracy: 0.7573\n",
      "Train Log Loss: 0.3030\n",
      "Test Log Loss: 0.4927\n"
     ]
    },
    {
     "data": {
      "image/png": "[encoded data removed]",
      "text/plain": [
       "<Figure size 1000x600 with 1 Axes>"
      ]
     },
     "metadata": {},
     "output_type": "display_data"
    }
   ],
   "source": [
    "!pip install lightgbm==2.0.3\n",
    "from sklearn.metrics import accuracy_score, log_loss\n",
    "\n",
    "\n",
    "X = df.drop('ADOPTED_YN', axis=1)\n",
    "y = df['ADOPTED_YN']\n",
    "\n",
    "categorical_features = X.select_dtypes(include=['object', 'category']).columns.tolist()\n",
    "numerical_features = X.select_dtypes(include=['int64', 'float64']).columns.tolist()\n",
    "\n",
    "\n",
    "preprocessor = ColumnTransformer(\n",
    "    transformers=[\n",
    "        ('num', MinMaxScaler(), numerical_features),\n",
    "        ('cat', OneHotEncoder(handle_unknown='ignore'), categorical_features)\n",
    "    ])\n",
    "\n",
    "# TTSPLIT\n",
    "X_train, X_test, y_train, y_test = train_test_split(X, y, test_size=0.2, random_state=42)\n",
    "\n",
    "\n",
    "X_train_processed = preprocessor.fit_transform(X_train)\n",
    "X_test_processed = preprocessor.transform(X_test)\n",
    "\n",
    "# Converting to DMatrix (data structure that LightGBM uses)\n",
    "d_train = lgb.Dataset(X_train_processed, label=y_train)\n",
    "d_test = lgb.Dataset(X_test_processed, label=y_test)\n",
    "\n",
    "# LightGBM parameters\n",
    "params = {\n",
    "    'boosting_type': 'gbdt',\n",
    "    'objective': 'binary',\n",
    "    'metric': 'binary_logloss',\n",
    "    'num_leaves': 2**10,\n",
    "    'learning_rate': 0.05,\n",
    "    'feature_fraction': 0.9,\n",
    "    'bagging_fraction': 0.8,\n",
    "    'bagging_freq': 5,\n",
    "    'verbose': 0\n",
    "}\n",
    "\n",
    "# train model\n",
    "evals_result = {}  # to record eval results for plotting\n",
    "model = lgb.train(params,\n",
    "                  d_train,\n",
    "                  num_boost_round=100,\n",
    "                  valid_sets=[d_train, d_test],\n",
    "                  valid_names=['train', 'valid'],\n",
    "                  evals_result=evals_result,\n",
    "                  early_stopping_rounds=10,\n",
    "                  verbose_eval=False)\n",
    "\n",
    "# plot log loss during training\n",
    "plt.figure(figsize=(10, 6))\n",
    "plt.plot(evals_result['train']['binary_logloss'], label='Training Loss')\n",
    "plt.plot(evals_result['valid']['binary_logloss'], label='Validation Loss')\n",
    "plt.title('Training and Validation Loss over Iterations')\n",
    "plt.xlabel('Iterations')\n",
    "plt.ylabel('Log Loss')\n",
    "plt.legend()\n",
    "plt.show()\n",
    "\n",
    "# test set predictions\n",
    "y_pred_prob = model.predict(X_test_processed)\n",
    "y_pred = (y_pred_prob >= 0.5).astype(int)\n",
    "\n",
    "\n",
    "\n",
    "# calc accuracy\n",
    "model_accuracy = accuracy_score(y_test, y_pred)\n",
    "print(f\"Model Accuracy: {model_accuracy:.4f}\")\n",
    "\n",
    "# log loss\n",
    "train_log_loss = log_loss(y_train, model.predict(X_train_processed))\n",
    "test_log_loss = log_loss(y_test, y_pred_prob)\n",
    "print(f\"Train Log Loss: {train_log_loss:.4f}\")\n",
    "print(f\"Test Log Loss: {test_log_loss:.4f}\")\n",
    "\n",
    "# FEATURE IMPORTANCE!!\n",
    "feature_importances = model.feature_importance()\n",
    "\n",
    "# get feature names after one-hot encoding\n",
    "feature_names = preprocessor.transformers_[1][1].get_feature_names_out(categorical_features)\n",
    "\n",
    "# combine numerical & categorical feature names\n",
    "all_feature_names = numerical_features + list(feature_names)\n",
    "\n",
    "# df for feature importances\n",
    "df_feature_importances = pd.DataFrame({\n",
    "    'feature': all_feature_names,\n",
    "    'importance': feature_importances\n",
    "}).sort_values('importance', ascending=False)\n",
    "\n",
    "# plot feature importances\n",
    "plt.figure(figsize=(10, 6))\n",
    "sns.barplot(x='importance', y='feature', data=df_feature_importances.head(20))\n",
    "plt.title('Feature Importance')\n",
    "plt.xlabel('Importance')\n",
    "plt.ylabel('Feature')\n",
    "plt.tight_layout()  # Adjust the plot to ensure everything fits without overlapping\n",
    "plt.show()\n"
   ]
  }
 ],
 "metadata": {
  "colab": {
   "provenance": []
  },
  "kernelspec": {
   "display_name": "Python 3 (ipykernel)",
   "language": "python",
   "name": "python3"
  },
  "language_info": {
   "codemirror_mode": {
    "name": "ipython",
    "version": 3
   },
   "file_extension": ".py",
   "mimetype": "text/x-python",
   "name": "python",
   "nbconvert_exporter": "python",
   "pygments_lexer": "ipython3",
   "version": "3.9.7"
  },
  "widgets": {
   "application/vnd.jupyter.widget-state+json": {
    "00e0fd3b96f14b0fa5cb4ff1811a926a": {
     "model_module": "@jupyter-widgets/controls",
     "model_module_version": "1.5.0",
     "model_name": "FloatProgressModel",
     "state": {
      "_dom_classes": [],
      "_model_module": "@jupyter-widgets/controls",
      "_model_module_version": "1.5.0",
      "_model_name": "FloatProgressModel",
      "_view_count": null,
      "_view_module": "@jupyter-widgets/controls",
      "_view_module_version": "1.5.0",
      "_view_name": "ProgressView",
      "bar_style": "success",
      "description": "",
      "description_tooltip": null,
      "layout": "IPY_MODEL_5f2ea4581c3a48dea11f769d853d3903",
      "max": 433412096,
      "min": 0,
      "orientation": "horizontal",
      "style": "IPY_MODEL_7bf5b9187dc549019e378aeac83811f8",
      "value": 433412096
     }
    },
    "0293b802b4da4d1bade3b754aa9248bf": {
     "model_module": "@jupyter-widgets/controls",
     "model_module_version": "1.5.0",
     "model_name": "HBoxModel",
     "state": {
      "_dom_classes": [],
      "_model_module": "@jupyter-widgets/controls",
      "_model_module_version": "1.5.0",
      "_model_name": "HBoxModel",
      "_view_count": null,
      "_view_module": "@jupyter-widgets/controls",
      "_view_module_version": "1.5.0",
      "_view_name": "HBoxView",
      "box_style": "",
      "children": [
       "IPY_MODEL_82590726cfa84356ae9e637b436500d6",
       "IPY_MODEL_9ead0b8b1a124f14affd95289d6a57c9",
       "IPY_MODEL_ccda477a2ff64842957058b1b3a8492d"
      ],
      "layout": "IPY_MODEL_c793d60b83cb4c13b515edf404b77e17"
     }
    },
    "1076abdbe66a4d9ab5b096a188c9d0c2": {
     "model_module": "@jupyter-widgets/controls",
     "model_module_version": "1.5.0",
     "model_name": "DescriptionStyleModel",
     "state": {
      "_model_module": "@jupyter-widgets/controls",
      "_model_module_version": "1.5.0",
      "_model_name": "DescriptionStyleModel",
      "_view_count": null,
      "_view_module": "@jupyter-widgets/base",
      "_view_module_version": "1.2.0",
      "_view_name": "StyleView",
      "description_width": ""
     }
    },
    "10d8eb64e22d49fba5861d36b0638dd7": {
     "model_module": "@jupyter-widgets/controls",
     "model_module_version": "1.5.0",
     "model_name": "ProgressStyleModel",
     "state": {
      "_model_module": "@jupyter-widgets/controls",
      "_model_module_version": "1.5.0",
      "_model_name": "ProgressStyleModel",
      "_view_count": null,
      "_view_module": "@jupyter-widgets/base",
      "_view_module_version": "1.2.0",
      "_view_name": "StyleView",
      "bar_color": null,
      "description_width": ""
     }
    },
    "1306a6394aec4f21b63b836d011a3312": {
     "model_module": "@jupyter-widgets/controls",
     "model_module_version": "1.5.0",
     "model_name": "DescriptionStyleModel",
     "state": {
      "_model_module": "@jupyter-widgets/controls",
      "_model_module_version": "1.5.0",
      "_model_name": "DescriptionStyleModel",
      "_view_count": null,
      "_view_module": "@jupyter-widgets/base",
      "_view_module_version": "1.2.0",
      "_view_name": "StyleView",
      "description_width": ""
     }
    },
    "17c0bc06624a4f818d32272cde0a7c49": {
     "model_module": "@jupyter-widgets/controls",
     "model_module_version": "1.5.0",
     "model_name": "HTMLModel",
     "state": {
      "_dom_classes": [],
      "_model_module": "@jupyter-widgets/controls",
      "_model_module_version": "1.5.0",
      "_model_name": "HTMLModel",
      "_view_count": null,
      "_view_module": "@jupyter-widgets/controls",
      "_view_module_version": "1.5.0",
      "_view_name": "HTMLView",
      "description": "",
      "description_tooltip": null,
      "layout": "IPY_MODEL_25d32258dc0b4eaf9805c47f6d521032",
      "placeholder": "​",
      "style": "IPY_MODEL_dbd1eb125278423fa00775534f872361",
      "value": " 213k/213k [00:00&lt;00:00, 1.97MB/s]"
     }
    },
    "189e8001587e45e0a848eec1f287c63a": {
     "model_module": "@jupyter-widgets/controls",
     "model_module_version": "1.5.0",
     "model_name": "ProgressStyleModel",
     "state": {
      "_model_module": "@jupyter-widgets/controls",
      "_model_module_version": "1.5.0",
      "_model_name": "ProgressStyleModel",
      "_view_count": null,
      "_view_module": "@jupyter-widgets/base",
      "_view_module_version": "1.2.0",
      "_view_name": "StyleView",
      "bar_color": null,
      "description_width": ""
     }
    },
    "25d32258dc0b4eaf9805c47f6d521032": {
     "model_module": "@jupyter-widgets/base",
     "model_module_version": "1.2.0",
     "model_name": "LayoutModel",
     "state": {
      "_model_module": "@jupyter-widgets/base",
      "_model_module_version": "1.2.0",
      "_model_name": "LayoutModel",
      "_view_count": null,
      "_view_module": "@jupyter-widgets/base",
      "_view_module_version": "1.2.0",
      "_view_name": "LayoutView",
      "align_content": null,
      "align_items": null,
      "align_self": null,
      "border": null,
      "bottom": null,
      "display": null,
      "flex": null,
      "flex_flow": null,
      "grid_area": null,
      "grid_auto_columns": null,
      "grid_auto_flow": null,
      "grid_auto_rows": null,
      "grid_column": null,
      "grid_gap": null,
      "grid_row": null,
      "grid_template_areas": null,
      "grid_template_columns": null,
      "grid_template_rows": null,
      "height": null,
      "justify_content": null,
      "justify_items": null,
      "left": null,
      "margin": null,
      "max_height": null,
      "max_width": null,
      "min_height": null,
      "min_width": null,
      "object_fit": null,
      "object_position": null,
      "order": null,
      "overflow": null,
      "overflow_x": null,
      "overflow_y": null,
      "padding": null,
      "right": null,
      "top": null,
      "visibility": null,
      "width": null
     }
    },
    "29862f9fd8a345e6bc0d803340480f3d": {
     "model_module": "@jupyter-widgets/controls",
     "model_module_version": "1.5.0",
     "model_name": "HTMLModel",
     "state": {
      "_dom_classes": [],
      "_model_module": "@jupyter-widgets/controls",
      "_model_module_version": "1.5.0",
      "_model_name": "HTMLModel",
      "_view_count": null,
      "_view_module": "@jupyter-widgets/controls",
      "_view_module_version": "1.5.0",
      "_view_name": "HTMLView",
      "description": "",
      "description_tooltip": null,
      "layout": "IPY_MODEL_3e1e4c202ed244f88b70badf7eea63d1",
      "placeholder": "​",
      "style": "IPY_MODEL_6fe26e1cd8ad463c904c8a9cd46d29ed",
      "value": "config.json: 100%"
     }
    },
    "2ae2e55be664482da3798cec00bd0f2d": {
     "model_module": "@jupyter-widgets/controls",
     "model_module_version": "1.5.0",
     "model_name": "DescriptionStyleModel",
     "state": {
      "_model_module": "@jupyter-widgets/controls",
      "_model_module_version": "1.5.0",
      "_model_name": "DescriptionStyleModel",
      "_view_count": null,
      "_view_module": "@jupyter-widgets/base",
      "_view_module_version": "1.2.0",
      "_view_name": "StyleView",
      "description_width": ""
     }
    },
    "2ee79e6c4e1946028492ecf882d0390a": {
     "model_module": "@jupyter-widgets/controls",
     "model_module_version": "1.5.0",
     "model_name": "DescriptionStyleModel",
     "state": {
      "_model_module": "@jupyter-widgets/controls",
      "_model_module_version": "1.5.0",
      "_model_name": "DescriptionStyleModel",
      "_view_count": null,
      "_view_module": "@jupyter-widgets/base",
      "_view_module_version": "1.2.0",
      "_view_name": "StyleView",
      "description_width": ""
     }
    },
    "33c2e4e9f59c48b693637b66cb8c58a9": {
     "model_module": "@jupyter-widgets/controls",
     "model_module_version": "1.5.0",
     "model_name": "HTMLModel",
     "state": {
      "_dom_classes": [],
      "_model_module": "@jupyter-widgets/controls",
      "_model_module_version": "1.5.0",
      "_model_name": "HTMLModel",
      "_view_count": null,
      "_view_module": "@jupyter-widgets/controls",
      "_view_module_version": "1.5.0",
      "_view_name": "HTMLView",
      "description": "",
      "description_tooltip": null,
      "layout": "IPY_MODEL_53f1553191584387b8560d5a0549e048",
      "placeholder": "​",
      "style": "IPY_MODEL_f4633054036347ee89c24e67b28edeee",
      "value": " 182/182 [00:00&lt;00:00, 3.08kB/s]"
     }
    },
    "37f444ac7f4149358a8470deb8cd84dd": {
     "model_module": "@jupyter-widgets/base",
     "model_module_version": "1.2.0",
     "model_name": "LayoutModel",
     "state": {
      "_model_module": "@jupyter-widgets/base",
      "_model_module_version": "1.2.0",
      "_model_name": "LayoutModel",
      "_view_count": null,
      "_view_module": "@jupyter-widgets/base",
      "_view_module_version": "1.2.0",
      "_view_name": "LayoutView",
      "align_content": null,
      "align_items": null,
      "align_self": null,
      "border": null,
      "bottom": null,
      "display": null,
      "flex": null,
      "flex_flow": null,
      "grid_area": null,
      "grid_auto_columns": null,
      "grid_auto_flow": null,
      "grid_auto_rows": null,
      "grid_column": null,
      "grid_gap": null,
      "grid_row": null,
      "grid_template_areas": null,
      "grid_template_columns": null,
      "grid_template_rows": null,
      "height": null,
      "justify_content": null,
      "justify_items": null,
      "left": null,
      "margin": null,
      "max_height": null,
      "max_width": null,
      "min_height": null,
      "min_width": null,
      "object_fit": null,
      "object_position": null,
      "order": null,
      "overflow": null,
      "overflow_x": null,
      "overflow_y": null,
      "padding": null,
      "right": null,
      "top": null,
      "visibility": null,
      "width": null
     }
    },
    "3e1e4c202ed244f88b70badf7eea63d1": {
     "model_module": "@jupyter-widgets/base",
     "model_module_version": "1.2.0",
     "model_name": "LayoutModel",
     "state": {
      "_model_module": "@jupyter-widgets/base",
      "_model_module_version": "1.2.0",
      "_model_name": "LayoutModel",
      "_view_count": null,
      "_view_module": "@jupyter-widgets/base",
      "_view_module_version": "1.2.0",
      "_view_name": "LayoutView",
      "align_content": null,
      "align_items": null,
      "align_self": null,
      "border": null,
      "bottom": null,
      "display": null,
      "flex": null,
      "flex_flow": null,
      "grid_area": null,
      "grid_auto_columns": null,
      "grid_auto_flow": null,
      "grid_auto_rows": null,
      "grid_column": null,
      "grid_gap": null,
      "grid_row": null,
      "grid_template_areas": null,
      "grid_template_columns": null,
      "grid_template_rows": null,
      "height": null,
      "justify_content": null,
      "justify_items": null,
      "left": null,
      "margin": null,
      "max_height": null,
      "max_width": null,
      "min_height": null,
      "min_width": null,
      "object_fit": null,
      "object_position": null,
      "order": null,
      "overflow": null,
      "overflow_x": null,
      "overflow_y": null,
      "padding": null,
      "right": null,
      "top": null,
      "visibility": null,
      "width": null
     }
    },
    "4bf0e26852dc44c6bbc55e386cb06699": {
     "model_module": "@jupyter-widgets/controls",
     "model_module_version": "1.5.0",
     "model_name": "DescriptionStyleModel",
     "state": {
      "_model_module": "@jupyter-widgets/controls",
      "_model_module_version": "1.5.0",
      "_model_name": "DescriptionStyleModel",
      "_view_count": null,
      "_view_module": "@jupyter-widgets/base",
      "_view_module_version": "1.2.0",
      "_view_name": "StyleView",
      "description_width": ""
     }
    },
    "4c0604af60a747c696ae51dc4fbc108a": {
     "model_module": "@jupyter-widgets/base",
     "model_module_version": "1.2.0",
     "model_name": "LayoutModel",
     "state": {
      "_model_module": "@jupyter-widgets/base",
      "_model_module_version": "1.2.0",
      "_model_name": "LayoutModel",
      "_view_count": null,
      "_view_module": "@jupyter-widgets/base",
      "_view_module_version": "1.2.0",
      "_view_name": "LayoutView",
      "align_content": null,
      "align_items": null,
      "align_self": null,
      "border": null,
      "bottom": null,
      "display": null,
      "flex": null,
      "flex_flow": null,
      "grid_area": null,
      "grid_auto_columns": null,
      "grid_auto_flow": null,
      "grid_auto_rows": null,
      "grid_column": null,
      "grid_gap": null,
      "grid_row": null,
      "grid_template_areas": null,
      "grid_template_columns": null,
      "grid_template_rows": null,
      "height": null,
      "justify_content": null,
      "justify_items": null,
      "left": null,
      "margin": null,
      "max_height": null,
      "max_width": null,
      "min_height": null,
      "min_width": null,
      "object_fit": null,
      "object_position": null,
      "order": null,
      "overflow": null,
      "overflow_x": null,
      "overflow_y": null,
      "padding": null,
      "right": null,
      "top": null,
      "visibility": null,
      "width": null
     }
    },
    "53f1553191584387b8560d5a0549e048": {
     "model_module": "@jupyter-widgets/base",
     "model_module_version": "1.2.0",
     "model_name": "LayoutModel",
     "state": {
      "_model_module": "@jupyter-widgets/base",
      "_model_module_version": "1.2.0",
      "_model_name": "LayoutModel",
      "_view_count": null,
      "_view_module": "@jupyter-widgets/base",
      "_view_module_version": "1.2.0",
      "_view_name": "LayoutView",
      "align_content": null,
      "align_items": null,
      "align_self": null,
      "border": null,
      "bottom": null,
      "display": null,
      "flex": null,
      "flex_flow": null,
      "grid_area": null,
      "grid_auto_columns": null,
      "grid_auto_flow": null,
      "grid_auto_rows": null,
      "grid_column": null,
      "grid_gap": null,
      "grid_row": null,
      "grid_template_areas": null,
      "grid_template_columns": null,
      "grid_template_rows": null,
      "height": null,
      "justify_content": null,
      "justify_items": null,
      "left": null,
      "margin": null,
      "max_height": null,
      "max_width": null,
      "min_height": null,
      "min_width": null,
      "object_fit": null,
      "object_position": null,
      "order": null,
      "overflow": null,
      "overflow_x": null,
      "overflow_y": null,
      "padding": null,
      "right": null,
      "top": null,
      "visibility": null,
      "width": null
     }
    },
    "5eb096bd3bec42b7a246a15c04cf2ec8": {
     "model_module": "@jupyter-widgets/base",
     "model_module_version": "1.2.0",
     "model_name": "LayoutModel",
     "state": {
      "_model_module": "@jupyter-widgets/base",
      "_model_module_version": "1.2.0",
      "_model_name": "LayoutModel",
      "_view_count": null,
      "_view_module": "@jupyter-widgets/base",
      "_view_module_version": "1.2.0",
      "_view_name": "LayoutView",
      "align_content": null,
      "align_items": null,
      "align_self": null,
      "border": null,
      "bottom": null,
      "display": null,
      "flex": null,
      "flex_flow": null,
      "grid_area": null,
      "grid_auto_columns": null,
      "grid_auto_flow": null,
      "grid_auto_rows": null,
      "grid_column": null,
      "grid_gap": null,
      "grid_row": null,
      "grid_template_areas": null,
      "grid_template_columns": null,
      "grid_template_rows": null,
      "height": null,
      "justify_content": null,
      "justify_items": null,
      "left": null,
      "margin": null,
      "max_height": null,
      "max_width": null,
      "min_height": null,
      "min_width": null,
      "object_fit": null,
      "object_position": null,
      "order": null,
      "overflow": null,
      "overflow_x": null,
      "overflow_y": null,
      "padding": null,
      "right": null,
      "top": null,
      "visibility": null,
      "width": null
     }
    },
    "5f2ea4581c3a48dea11f769d853d3903": {
     "model_module": "@jupyter-widgets/base",
     "model_module_version": "1.2.0",
     "model_name": "LayoutModel",
     "state": {
      "_model_module": "@jupyter-widgets/base",
      "_model_module_version": "1.2.0",
      "_model_name": "LayoutModel",
      "_view_count": null,
      "_view_module": "@jupyter-widgets/base",
      "_view_module_version": "1.2.0",
      "_view_name": "LayoutView",
      "align_content": null,
      "align_items": null,
      "align_self": null,
      "border": null,
      "bottom": null,
      "display": null,
      "flex": null,
      "flex_flow": null,
      "grid_area": null,
      "grid_auto_columns": null,
      "grid_auto_flow": null,
      "grid_auto_rows": null,
      "grid_column": null,
      "grid_gap": null,
      "grid_row": null,
      "grid_template_areas": null,
      "grid_template_columns": null,
      "grid_template_rows": null,
      "height": null,
      "justify_content": null,
      "justify_items": null,
      "left": null,
      "margin": null,
      "max_height": null,
      "max_width": null,
      "min_height": null,
      "min_width": null,
      "object_fit": null,
      "object_position": null,
      "order": null,
      "overflow": null,
      "overflow_x": null,
      "overflow_y": null,
      "padding": null,
      "right": null,
      "top": null,
      "visibility": null,
      "width": null
     }
    },
    "635e6088f36f49b790a71d1ea6ee4a10": {
     "model_module": "@jupyter-widgets/controls",
     "model_module_version": "1.5.0",
     "model_name": "HBoxModel",
     "state": {
      "_dom_classes": [],
      "_model_module": "@jupyter-widgets/controls",
      "_model_module_version": "1.5.0",
      "_model_name": "HBoxModel",
      "_view_count": null,
      "_view_module": "@jupyter-widgets/controls",
      "_view_module_version": "1.5.0",
      "_view_name": "HBoxView",
      "box_style": "",
      "children": [
       "IPY_MODEL_90ad1fba60d3446c89ad89e11843a7e4",
       "IPY_MODEL_648c9e0df6ce4bfc933020f0c3894f3a",
       "IPY_MODEL_17c0bc06624a4f818d32272cde0a7c49"
      ],
      "layout": "IPY_MODEL_cbe90e390eb74d8f8b8c727348be5a4f"
     }
    },
    "648c9e0df6ce4bfc933020f0c3894f3a": {
     "model_module": "@jupyter-widgets/controls",
     "model_module_version": "1.5.0",
     "model_name": "FloatProgressModel",
     "state": {
      "_dom_classes": [],
      "_model_module": "@jupyter-widgets/controls",
      "_model_module_version": "1.5.0",
      "_model_name": "FloatProgressModel",
      "_view_count": null,
      "_view_module": "@jupyter-widgets/controls",
      "_view_module_version": "1.5.0",
      "_view_name": "ProgressView",
      "bar_style": "success",
      "description": "",
      "description_tooltip": null,
      "layout": "IPY_MODEL_9e7015c613c742ea905f76f899047165",
      "max": 213448,
      "min": 0,
      "orientation": "horizontal",
      "style": "IPY_MODEL_10d8eb64e22d49fba5861d36b0638dd7",
      "value": 213448
     }
    },
    "6fe26e1cd8ad463c904c8a9cd46d29ed": {
     "model_module": "@jupyter-widgets/controls",
     "model_module_version": "1.5.0",
     "model_name": "DescriptionStyleModel",
     "state": {
      "_model_module": "@jupyter-widgets/controls",
      "_model_module_version": "1.5.0",
      "_model_name": "DescriptionStyleModel",
      "_view_count": null,
      "_view_module": "@jupyter-widgets/base",
      "_view_module_version": "1.2.0",
      "_view_name": "StyleView",
      "description_width": ""
     }
    },
    "706dbb4d48db4f29a41feabcdfc88468": {
     "model_module": "@jupyter-widgets/controls",
     "model_module_version": "1.5.0",
     "model_name": "HTMLModel",
     "state": {
      "_dom_classes": [],
      "_model_module": "@jupyter-widgets/controls",
      "_model_module_version": "1.5.0",
      "_model_name": "HTMLModel",
      "_view_count": null,
      "_view_module": "@jupyter-widgets/controls",
      "_view_module_version": "1.5.0",
      "_view_name": "HTMLView",
      "description": "",
      "description_tooltip": null,
      "layout": "IPY_MODEL_7649e2793d8d402cb5ad8b6cce4054c6",
      "placeholder": "​",
      "style": "IPY_MODEL_b17381f05e0b467b9cc5210f92526141",
      "value": "pytorch_model.bin: 100%"
     }
    },
    "7394fbadf5fa49149d26b73d0413e5af": {
     "model_module": "@jupyter-widgets/base",
     "model_module_version": "1.2.0",
     "model_name": "LayoutModel",
     "state": {
      "_model_module": "@jupyter-widgets/base",
      "_model_module_version": "1.2.0",
      "_model_name": "LayoutModel",
      "_view_count": null,
      "_view_module": "@jupyter-widgets/base",
      "_view_module_version": "1.2.0",
      "_view_name": "LayoutView",
      "align_content": null,
      "align_items": null,
      "align_self": null,
      "border": null,
      "bottom": null,
      "display": null,
      "flex": null,
      "flex_flow": null,
      "grid_area": null,
      "grid_auto_columns": null,
      "grid_auto_flow": null,
      "grid_auto_rows": null,
      "grid_column": null,
      "grid_gap": null,
      "grid_row": null,
      "grid_template_areas": null,
      "grid_template_columns": null,
      "grid_template_rows": null,
      "height": null,
      "justify_content": null,
      "justify_items": null,
      "left": null,
      "margin": null,
      "max_height": null,
      "max_width": null,
      "min_height": null,
      "min_width": null,
      "object_fit": null,
      "object_position": null,
      "order": null,
      "overflow": null,
      "overflow_x": null,
      "overflow_y": null,
      "padding": null,
      "right": null,
      "top": null,
      "visibility": null,
      "width": null
     }
    },
    "7439a62437584d48a40545490505f7d9": {
     "model_module": "@jupyter-widgets/controls",
     "model_module_version": "1.5.0",
     "model_name": "ProgressStyleModel",
     "state": {
      "_model_module": "@jupyter-widgets/controls",
      "_model_module_version": "1.5.0",
      "_model_name": "ProgressStyleModel",
      "_view_count": null,
      "_view_module": "@jupyter-widgets/base",
      "_view_module_version": "1.2.0",
      "_view_name": "StyleView",
      "bar_color": null,
      "description_width": ""
     }
    },
    "7649e2793d8d402cb5ad8b6cce4054c6": {
     "model_module": "@jupyter-widgets/base",
     "model_module_version": "1.2.0",
     "model_name": "LayoutModel",
     "state": {
      "_model_module": "@jupyter-widgets/base",
      "_model_module_version": "1.2.0",
      "_model_name": "LayoutModel",
      "_view_count": null,
      "_view_module": "@jupyter-widgets/base",
      "_view_module_version": "1.2.0",
      "_view_name": "LayoutView",
      "align_content": null,
      "align_items": null,
      "align_self": null,
      "border": null,
      "bottom": null,
      "display": null,
      "flex": null,
      "flex_flow": null,
      "grid_area": null,
      "grid_auto_columns": null,
      "grid_auto_flow": null,
      "grid_auto_rows": null,
      "grid_column": null,
      "grid_gap": null,
      "grid_row": null,
      "grid_template_areas": null,
      "grid_template_columns": null,
      "grid_template_rows": null,
      "height": null,
      "justify_content": null,
      "justify_items": null,
      "left": null,
      "margin": null,
      "max_height": null,
      "max_width": null,
      "min_height": null,
      "min_width": null,
      "object_fit": null,
      "object_position": null,
      "order": null,
      "overflow": null,
      "overflow_x": null,
      "overflow_y": null,
      "padding": null,
      "right": null,
      "top": null,
      "visibility": null,
      "width": null
     }
    },
    "78044b34b38a45d3af8b5c167843e40e": {
     "model_module": "@jupyter-widgets/controls",
     "model_module_version": "1.5.0",
     "model_name": "HTMLModel",
     "state": {
      "_dom_classes": [],
      "_model_module": "@jupyter-widgets/controls",
      "_model_module_version": "1.5.0",
      "_model_name": "HTMLModel",
      "_view_count": null,
      "_view_module": "@jupyter-widgets/controls",
      "_view_module_version": "1.5.0",
      "_view_name": "HTMLView",
      "description": "",
      "description_tooltip": null,
      "layout": "IPY_MODEL_963b508bbb564dcfb6c19de1eee5d648",
      "placeholder": "​",
      "style": "IPY_MODEL_2ae2e55be664482da3798cec00bd0f2d",
      "value": " 1.67k/1.67k [00:00&lt;00:00, 26.0kB/s]"
     }
    },
    "78bce5de5d14472898c92f8ee341aed4": {
     "model_module": "@jupyter-widgets/base",
     "model_module_version": "1.2.0",
     "model_name": "LayoutModel",
     "state": {
      "_model_module": "@jupyter-widgets/base",
      "_model_module_version": "1.2.0",
      "_model_name": "LayoutModel",
      "_view_count": null,
      "_view_module": "@jupyter-widgets/base",
      "_view_module_version": "1.2.0",
      "_view_name": "LayoutView",
      "align_content": null,
      "align_items": null,
      "align_self": null,
      "border": null,
      "bottom": null,
      "display": null,
      "flex": null,
      "flex_flow": null,
      "grid_area": null,
      "grid_auto_columns": null,
      "grid_auto_flow": null,
      "grid_auto_rows": null,
      "grid_column": null,
      "grid_gap": null,
      "grid_row": null,
      "grid_template_areas": null,
      "grid_template_columns": null,
      "grid_template_rows": null,
      "height": null,
      "justify_content": null,
      "justify_items": null,
      "left": null,
      "margin": null,
      "max_height": null,
      "max_width": null,
      "min_height": null,
      "min_width": null,
      "object_fit": null,
      "object_position": null,
      "order": null,
      "overflow": null,
      "overflow_x": null,
      "overflow_y": null,
      "padding": null,
      "right": null,
      "top": null,
      "visibility": null,
      "width": null
     }
    },
    "7bf5b9187dc549019e378aeac83811f8": {
     "model_module": "@jupyter-widgets/controls",
     "model_module_version": "1.5.0",
     "model_name": "ProgressStyleModel",
     "state": {
      "_model_module": "@jupyter-widgets/controls",
      "_model_module_version": "1.5.0",
      "_model_name": "ProgressStyleModel",
      "_view_count": null,
      "_view_module": "@jupyter-widgets/base",
      "_view_module_version": "1.2.0",
      "_view_name": "StyleView",
      "bar_color": null,
      "description_width": ""
     }
    },
    "7fff0ea1d11946b6a6423c61656a4b4a": {
     "model_module": "@jupyter-widgets/controls",
     "model_module_version": "1.5.0",
     "model_name": "HTMLModel",
     "state": {
      "_dom_classes": [],
      "_model_module": "@jupyter-widgets/controls",
      "_model_module_version": "1.5.0",
      "_model_name": "HTMLModel",
      "_view_count": null,
      "_view_module": "@jupyter-widgets/controls",
      "_view_module_version": "1.5.0",
      "_view_name": "HTMLView",
      "description": "",
      "description_tooltip": null,
      "layout": "IPY_MODEL_da16bda1a308423db6b0021debec2d40",
      "placeholder": "​",
      "style": "IPY_MODEL_c4633ed59c3849ae81e6d10ec6eeded6",
      "value": "special_tokens_map.json: 100%"
     }
    },
    "82590726cfa84356ae9e637b436500d6": {
     "model_module": "@jupyter-widgets/controls",
     "model_module_version": "1.5.0",
     "model_name": "HTMLModel",
     "state": {
      "_dom_classes": [],
      "_model_module": "@jupyter-widgets/controls",
      "_model_module_version": "1.5.0",
      "_model_name": "HTMLModel",
      "_view_count": null,
      "_view_module": "@jupyter-widgets/controls",
      "_view_module_version": "1.5.0",
      "_view_name": "HTMLView",
      "description": "",
      "description_tooltip": null,
      "layout": "IPY_MODEL_5eb096bd3bec42b7a246a15c04cf2ec8",
      "placeholder": "​",
      "style": "IPY_MODEL_4bf0e26852dc44c6bbc55e386cb06699",
      "value": "tokenizer_config.json: 100%"
     }
    },
    "90ad1fba60d3446c89ad89e11843a7e4": {
     "model_module": "@jupyter-widgets/controls",
     "model_module_version": "1.5.0",
     "model_name": "HTMLModel",
     "state": {
      "_dom_classes": [],
      "_model_module": "@jupyter-widgets/controls",
      "_model_module_version": "1.5.0",
      "_model_name": "HTMLModel",
      "_view_count": null,
      "_view_module": "@jupyter-widgets/controls",
      "_view_module_version": "1.5.0",
      "_view_name": "HTMLView",
      "description": "",
      "description_tooltip": null,
      "layout": "IPY_MODEL_c0b5f3868d3e4617a7ffec4ce2227a20",
      "placeholder": "​",
      "style": "IPY_MODEL_2ee79e6c4e1946028492ecf882d0390a",
      "value": "vocab.txt: 100%"
     }
    },
    "963b508bbb564dcfb6c19de1eee5d648": {
     "model_module": "@jupyter-widgets/base",
     "model_module_version": "1.2.0",
     "model_name": "LayoutModel",
     "state": {
      "_model_module": "@jupyter-widgets/base",
      "_model_module_version": "1.2.0",
      "_model_name": "LayoutModel",
      "_view_count": null,
      "_view_module": "@jupyter-widgets/base",
      "_view_module_version": "1.2.0",
      "_view_name": "LayoutView",
      "align_content": null,
      "align_items": null,
      "align_self": null,
      "border": null,
      "bottom": null,
      "display": null,
      "flex": null,
      "flex_flow": null,
      "grid_area": null,
      "grid_auto_columns": null,
      "grid_auto_flow": null,
      "grid_auto_rows": null,
      "grid_column": null,
      "grid_gap": null,
      "grid_row": null,
      "grid_template_areas": null,
      "grid_template_columns": null,
      "grid_template_rows": null,
      "height": null,
      "justify_content": null,
      "justify_items": null,
      "left": null,
      "margin": null,
      "max_height": null,
      "max_width": null,
      "min_height": null,
      "min_width": null,
      "object_fit": null,
      "object_position": null,
      "order": null,
      "overflow": null,
      "overflow_x": null,
      "overflow_y": null,
      "padding": null,
      "right": null,
      "top": null,
      "visibility": null,
      "width": null
     }
    },
    "972b2d06e97c473f830d3d49192c1e72": {
     "model_module": "@jupyter-widgets/controls",
     "model_module_version": "1.5.0",
     "model_name": "FloatProgressModel",
     "state": {
      "_dom_classes": [],
      "_model_module": "@jupyter-widgets/controls",
      "_model_module_version": "1.5.0",
      "_model_name": "FloatProgressModel",
      "_view_count": null,
      "_view_module": "@jupyter-widgets/controls",
      "_view_module_version": "1.5.0",
      "_view_name": "ProgressView",
      "bar_style": "success",
      "description": "",
      "description_tooltip": null,
      "layout": "IPY_MODEL_37f444ac7f4149358a8470deb8cd84dd",
      "max": 182,
      "min": 0,
      "orientation": "horizontal",
      "style": "IPY_MODEL_189e8001587e45e0a848eec1f287c63a",
      "value": 182
     }
    },
    "9abc5ebe733c4bb7a056ee9d806a3c1a": {
     "model_module": "@jupyter-widgets/base",
     "model_module_version": "1.2.0",
     "model_name": "LayoutModel",
     "state": {
      "_model_module": "@jupyter-widgets/base",
      "_model_module_version": "1.2.0",
      "_model_name": "LayoutModel",
      "_view_count": null,
      "_view_module": "@jupyter-widgets/base",
      "_view_module_version": "1.2.0",
      "_view_name": "LayoutView",
      "align_content": null,
      "align_items": null,
      "align_self": null,
      "border": null,
      "bottom": null,
      "display": null,
      "flex": null,
      "flex_flow": null,
      "grid_area": null,
      "grid_auto_columns": null,
      "grid_auto_flow": null,
      "grid_auto_rows": null,
      "grid_column": null,
      "grid_gap": null,
      "grid_row": null,
      "grid_template_areas": null,
      "grid_template_columns": null,
      "grid_template_rows": null,
      "height": null,
      "justify_content": null,
      "justify_items": null,
      "left": null,
      "margin": null,
      "max_height": null,
      "max_width": null,
      "min_height": null,
      "min_width": null,
      "object_fit": null,
      "object_position": null,
      "order": null,
      "overflow": null,
      "overflow_x": null,
      "overflow_y": null,
      "padding": null,
      "right": null,
      "top": null,
      "visibility": null,
      "width": null
     }
    },
    "9e7015c613c742ea905f76f899047165": {
     "model_module": "@jupyter-widgets/base",
     "model_module_version": "1.2.0",
     "model_name": "LayoutModel",
     "state": {
      "_model_module": "@jupyter-widgets/base",
      "_model_module_version": "1.2.0",
      "_model_name": "LayoutModel",
      "_view_count": null,
      "_view_module": "@jupyter-widgets/base",
      "_view_module_version": "1.2.0",
      "_view_name": "LayoutView",
      "align_content": null,
      "align_items": null,
      "align_self": null,
      "border": null,
      "bottom": null,
      "display": null,
      "flex": null,
      "flex_flow": null,
      "grid_area": null,
      "grid_auto_columns": null,
      "grid_auto_flow": null,
      "grid_auto_rows": null,
      "grid_column": null,
      "grid_gap": null,
      "grid_row": null,
      "grid_template_areas": null,
      "grid_template_columns": null,
      "grid_template_rows": null,
      "height": null,
      "justify_content": null,
      "justify_items": null,
      "left": null,
      "margin": null,
      "max_height": null,
      "max_width": null,
      "min_height": null,
      "min_width": null,
      "object_fit": null,
      "object_position": null,
      "order": null,
      "overflow": null,
      "overflow_x": null,
      "overflow_y": null,
      "padding": null,
      "right": null,
      "top": null,
      "visibility": null,
      "width": null
     }
    },
    "9ead0b8b1a124f14affd95289d6a57c9": {
     "model_module": "@jupyter-widgets/controls",
     "model_module_version": "1.5.0",
     "model_name": "FloatProgressModel",
     "state": {
      "_dom_classes": [],
      "_model_module": "@jupyter-widgets/controls",
      "_model_module_version": "1.5.0",
      "_model_name": "FloatProgressModel",
      "_view_count": null,
      "_view_module": "@jupyter-widgets/controls",
      "_view_module_version": "1.5.0",
      "_view_name": "ProgressView",
      "bar_style": "success",
      "description": "",
      "description_tooltip": null,
      "layout": "IPY_MODEL_d489cb4c730940448f825f2a25078499",
      "max": 235,
      "min": 0,
      "orientation": "horizontal",
      "style": "IPY_MODEL_7439a62437584d48a40545490505f7d9",
      "value": 235
     }
    },
    "adf048ac3bcf4e7886e5bff33013f246": {
     "model_module": "@jupyter-widgets/controls",
     "model_module_version": "1.5.0",
     "model_name": "HBoxModel",
     "state": {
      "_dom_classes": [],
      "_model_module": "@jupyter-widgets/controls",
      "_model_module_version": "1.5.0",
      "_model_name": "HBoxModel",
      "_view_count": null,
      "_view_module": "@jupyter-widgets/controls",
      "_view_module_version": "1.5.0",
      "_view_name": "HBoxView",
      "box_style": "",
      "children": [
       "IPY_MODEL_706dbb4d48db4f29a41feabcdfc88468",
       "IPY_MODEL_00e0fd3b96f14b0fa5cb4ff1811a926a",
       "IPY_MODEL_ec46e409fbf24737b17bdb7034e883ff"
      ],
      "layout": "IPY_MODEL_b65acf2ce139425e8cf14ae68dabc6dc"
     }
    },
    "b17381f05e0b467b9cc5210f92526141": {
     "model_module": "@jupyter-widgets/controls",
     "model_module_version": "1.5.0",
     "model_name": "DescriptionStyleModel",
     "state": {
      "_model_module": "@jupyter-widgets/controls",
      "_model_module_version": "1.5.0",
      "_model_name": "DescriptionStyleModel",
      "_view_count": null,
      "_view_module": "@jupyter-widgets/base",
      "_view_module_version": "1.2.0",
      "_view_name": "StyleView",
      "description_width": ""
     }
    },
    "b65acf2ce139425e8cf14ae68dabc6dc": {
     "model_module": "@jupyter-widgets/base",
     "model_module_version": "1.2.0",
     "model_name": "LayoutModel",
     "state": {
      "_model_module": "@jupyter-widgets/base",
      "_model_module_version": "1.2.0",
      "_model_name": "LayoutModel",
      "_view_count": null,
      "_view_module": "@jupyter-widgets/base",
      "_view_module_version": "1.2.0",
      "_view_name": "LayoutView",
      "align_content": null,
      "align_items": null,
      "align_self": null,
      "border": null,
      "bottom": null,
      "display": null,
      "flex": null,
      "flex_flow": null,
      "grid_area": null,
      "grid_auto_columns": null,
      "grid_auto_flow": null,
      "grid_auto_rows": null,
      "grid_column": null,
      "grid_gap": null,
      "grid_row": null,
      "grid_template_areas": null,
      "grid_template_columns": null,
      "grid_template_rows": null,
      "height": null,
      "justify_content": null,
      "justify_items": null,
      "left": null,
      "margin": null,
      "max_height": null,
      "max_width": null,
      "min_height": null,
      "min_width": null,
      "object_fit": null,
      "object_position": null,
      "order": null,
      "overflow": null,
      "overflow_x": null,
      "overflow_y": null,
      "padding": null,
      "right": null,
      "top": null,
      "visibility": null,
      "width": null
     }
    },
    "c0b5f3868d3e4617a7ffec4ce2227a20": {
     "model_module": "@jupyter-widgets/base",
     "model_module_version": "1.2.0",
     "model_name": "LayoutModel",
     "state": {
      "_model_module": "@jupyter-widgets/base",
      "_model_module_version": "1.2.0",
      "_model_name": "LayoutModel",
      "_view_count": null,
      "_view_module": "@jupyter-widgets/base",
      "_view_module_version": "1.2.0",
      "_view_name": "LayoutView",
      "align_content": null,
      "align_items": null,
      "align_self": null,
      "border": null,
      "bottom": null,
      "display": null,
      "flex": null,
      "flex_flow": null,
      "grid_area": null,
      "grid_auto_columns": null,
      "grid_auto_flow": null,
      "grid_auto_rows": null,
      "grid_column": null,
      "grid_gap": null,
      "grid_row": null,
      "grid_template_areas": null,
      "grid_template_columns": null,
      "grid_template_rows": null,
      "height": null,
      "justify_content": null,
      "justify_items": null,
      "left": null,
      "margin": null,
      "max_height": null,
      "max_width": null,
      "min_height": null,
      "min_width": null,
      "object_fit": null,
      "object_position": null,
      "order": null,
      "overflow": null,
      "overflow_x": null,
      "overflow_y": null,
      "padding": null,
      "right": null,
      "top": null,
      "visibility": null,
      "width": null
     }
    },
    "c4633ed59c3849ae81e6d10ec6eeded6": {
     "model_module": "@jupyter-widgets/controls",
     "model_module_version": "1.5.0",
     "model_name": "DescriptionStyleModel",
     "state": {
      "_model_module": "@jupyter-widgets/controls",
      "_model_module_version": "1.5.0",
      "_model_name": "DescriptionStyleModel",
      "_view_count": null,
      "_view_module": "@jupyter-widgets/base",
      "_view_module_version": "1.2.0",
      "_view_name": "StyleView",
      "description_width": ""
     }
    },
    "c793d60b83cb4c13b515edf404b77e17": {
     "model_module": "@jupyter-widgets/base",
     "model_module_version": "1.2.0",
     "model_name": "LayoutModel",
     "state": {
      "_model_module": "@jupyter-widgets/base",
      "_model_module_version": "1.2.0",
      "_model_name": "LayoutModel",
      "_view_count": null,
      "_view_module": "@jupyter-widgets/base",
      "_view_module_version": "1.2.0",
      "_view_name": "LayoutView",
      "align_content": null,
      "align_items": null,
      "align_self": null,
      "border": null,
      "bottom": null,
      "display": null,
      "flex": null,
      "flex_flow": null,
      "grid_area": null,
      "grid_auto_columns": null,
      "grid_auto_flow": null,
      "grid_auto_rows": null,
      "grid_column": null,
      "grid_gap": null,
      "grid_row": null,
      "grid_template_areas": null,
      "grid_template_columns": null,
      "grid_template_rows": null,
      "height": null,
      "justify_content": null,
      "justify_items": null,
      "left": null,
      "margin": null,
      "max_height": null,
      "max_width": null,
      "min_height": null,
      "min_width": null,
      "object_fit": null,
      "object_position": null,
      "order": null,
      "overflow": null,
      "overflow_x": null,
      "overflow_y": null,
      "padding": null,
      "right": null,
      "top": null,
      "visibility": null,
      "width": null
     }
    },
    "cbe90e390eb74d8f8b8c727348be5a4f": {
     "model_module": "@jupyter-widgets/base",
     "model_module_version": "1.2.0",
     "model_name": "LayoutModel",
     "state": {
      "_model_module": "@jupyter-widgets/base",
      "_model_module_version": "1.2.0",
      "_model_name": "LayoutModel",
      "_view_count": null,
      "_view_module": "@jupyter-widgets/base",
      "_view_module_version": "1.2.0",
      "_view_name": "LayoutView",
      "align_content": null,
      "align_items": null,
      "align_self": null,
      "border": null,
      "bottom": null,
      "display": null,
      "flex": null,
      "flex_flow": null,
      "grid_area": null,
      "grid_auto_columns": null,
      "grid_auto_flow": null,
      "grid_auto_rows": null,
      "grid_column": null,
      "grid_gap": null,
      "grid_row": null,
      "grid_template_areas": null,
      "grid_template_columns": null,
      "grid_template_rows": null,
      "height": null,
      "justify_content": null,
      "justify_items": null,
      "left": null,
      "margin": null,
      "max_height": null,
      "max_width": null,
      "min_height": null,
      "min_width": null,
      "object_fit": null,
      "object_position": null,
      "order": null,
      "overflow": null,
      "overflow_x": null,
      "overflow_y": null,
      "padding": null,
      "right": null,
      "top": null,
      "visibility": null,
      "width": null
     }
    },
    "ccda477a2ff64842957058b1b3a8492d": {
     "model_module": "@jupyter-widgets/controls",
     "model_module_version": "1.5.0",
     "model_name": "HTMLModel",
     "state": {
      "_dom_classes": [],
      "_model_module": "@jupyter-widgets/controls",
      "_model_module_version": "1.5.0",
      "_model_name": "HTMLModel",
      "_view_count": null,
      "_view_module": "@jupyter-widgets/controls",
      "_view_module_version": "1.5.0",
      "_view_name": "HTMLView",
      "description": "",
      "description_tooltip": null,
      "layout": "IPY_MODEL_9abc5ebe733c4bb7a056ee9d806a3c1a",
      "placeholder": "​",
      "style": "IPY_MODEL_1306a6394aec4f21b63b836d011a3312",
      "value": " 235/235 [00:00&lt;00:00, 2.68kB/s]"
     }
    },
    "d489cb4c730940448f825f2a25078499": {
     "model_module": "@jupyter-widgets/base",
     "model_module_version": "1.2.0",
     "model_name": "LayoutModel",
     "state": {
      "_model_module": "@jupyter-widgets/base",
      "_model_module_version": "1.2.0",
      "_model_name": "LayoutModel",
      "_view_count": null,
      "_view_module": "@jupyter-widgets/base",
      "_view_module_version": "1.2.0",
      "_view_name": "LayoutView",
      "align_content": null,
      "align_items": null,
      "align_self": null,
      "border": null,
      "bottom": null,
      "display": null,
      "flex": null,
      "flex_flow": null,
      "grid_area": null,
      "grid_auto_columns": null,
      "grid_auto_flow": null,
      "grid_auto_rows": null,
      "grid_column": null,
      "grid_gap": null,
      "grid_row": null,
      "grid_template_areas": null,
      "grid_template_columns": null,
      "grid_template_rows": null,
      "height": null,
      "justify_content": null,
      "justify_items": null,
      "left": null,
      "margin": null,
      "max_height": null,
      "max_width": null,
      "min_height": null,
      "min_width": null,
      "object_fit": null,
      "object_position": null,
      "order": null,
      "overflow": null,
      "overflow_x": null,
      "overflow_y": null,
      "padding": null,
      "right": null,
      "top": null,
      "visibility": null,
      "width": null
     }
    },
    "d54ef9fdc3f64b26971f025af0fbf521": {
     "model_module": "@jupyter-widgets/controls",
     "model_module_version": "1.5.0",
     "model_name": "FloatProgressModel",
     "state": {
      "_dom_classes": [],
      "_model_module": "@jupyter-widgets/controls",
      "_model_module_version": "1.5.0",
      "_model_name": "FloatProgressModel",
      "_view_count": null,
      "_view_module": "@jupyter-widgets/controls",
      "_view_module_version": "1.5.0",
      "_view_name": "ProgressView",
      "bar_style": "success",
      "description": "",
      "description_tooltip": null,
      "layout": "IPY_MODEL_78bce5de5d14472898c92f8ee341aed4",
      "max": 1666,
      "min": 0,
      "orientation": "horizontal",
      "style": "IPY_MODEL_eef7c11329a54f02972cb2baa9326e9e",
      "value": 1666
     }
    },
    "da16bda1a308423db6b0021debec2d40": {
     "model_module": "@jupyter-widgets/base",
     "model_module_version": "1.2.0",
     "model_name": "LayoutModel",
     "state": {
      "_model_module": "@jupyter-widgets/base",
      "_model_module_version": "1.2.0",
      "_model_name": "LayoutModel",
      "_view_count": null,
      "_view_module": "@jupyter-widgets/base",
      "_view_module_version": "1.2.0",
      "_view_name": "LayoutView",
      "align_content": null,
      "align_items": null,
      "align_self": null,
      "border": null,
      "bottom": null,
      "display": null,
      "flex": null,
      "flex_flow": null,
      "grid_area": null,
      "grid_auto_columns": null,
      "grid_auto_flow": null,
      "grid_auto_rows": null,
      "grid_column": null,
      "grid_gap": null,
      "grid_row": null,
      "grid_template_areas": null,
      "grid_template_columns": null,
      "grid_template_rows": null,
      "height": null,
      "justify_content": null,
      "justify_items": null,
      "left": null,
      "margin": null,
      "max_height": null,
      "max_width": null,
      "min_height": null,
      "min_width": null,
      "object_fit": null,
      "object_position": null,
      "order": null,
      "overflow": null,
      "overflow_x": null,
      "overflow_y": null,
      "padding": null,
      "right": null,
      "top": null,
      "visibility": null,
      "width": null
     }
    },
    "dbd1eb125278423fa00775534f872361": {
     "model_module": "@jupyter-widgets/controls",
     "model_module_version": "1.5.0",
     "model_name": "DescriptionStyleModel",
     "state": {
      "_model_module": "@jupyter-widgets/controls",
      "_model_module_version": "1.5.0",
      "_model_name": "DescriptionStyleModel",
      "_view_count": null,
      "_view_module": "@jupyter-widgets/base",
      "_view_module_version": "1.2.0",
      "_view_name": "StyleView",
      "description_width": ""
     }
    },
    "e0fd5fbf5d224a74a19e0c13d2c2643d": {
     "model_module": "@jupyter-widgets/controls",
     "model_module_version": "1.5.0",
     "model_name": "HBoxModel",
     "state": {
      "_dom_classes": [],
      "_model_module": "@jupyter-widgets/controls",
      "_model_module_version": "1.5.0",
      "_model_name": "HBoxModel",
      "_view_count": null,
      "_view_module": "@jupyter-widgets/controls",
      "_view_module_version": "1.5.0",
      "_view_name": "HBoxView",
      "box_style": "",
      "children": [
       "IPY_MODEL_7fff0ea1d11946b6a6423c61656a4b4a",
       "IPY_MODEL_972b2d06e97c473f830d3d49192c1e72",
       "IPY_MODEL_33c2e4e9f59c48b693637b66cb8c58a9"
      ],
      "layout": "IPY_MODEL_ee721cbb6c054d469bf58d238df20ff9"
     }
    },
    "ec46e409fbf24737b17bdb7034e883ff": {
     "model_module": "@jupyter-widgets/controls",
     "model_module_version": "1.5.0",
     "model_name": "HTMLModel",
     "state": {
      "_dom_classes": [],
      "_model_module": "@jupyter-widgets/controls",
      "_model_module_version": "1.5.0",
      "_model_name": "HTMLModel",
      "_view_count": null,
      "_view_module": "@jupyter-widgets/controls",
      "_view_module_version": "1.5.0",
      "_view_name": "HTMLView",
      "description": "",
      "description_tooltip": null,
      "layout": "IPY_MODEL_4c0604af60a747c696ae51dc4fbc108a",
      "placeholder": "​",
      "style": "IPY_MODEL_1076abdbe66a4d9ab5b096a188c9d0c2",
      "value": " 433M/433M [00:03&lt;00:00, 103MB/s]"
     }
    },
    "ee721cbb6c054d469bf58d238df20ff9": {
     "model_module": "@jupyter-widgets/base",
     "model_module_version": "1.2.0",
     "model_name": "LayoutModel",
     "state": {
      "_model_module": "@jupyter-widgets/base",
      "_model_module_version": "1.2.0",
      "_model_name": "LayoutModel",
      "_view_count": null,
      "_view_module": "@jupyter-widgets/base",
      "_view_module_version": "1.2.0",
      "_view_name": "LayoutView",
      "align_content": null,
      "align_items": null,
      "align_self": null,
      "border": null,
      "bottom": null,
      "display": null,
      "flex": null,
      "flex_flow": null,
      "grid_area": null,
      "grid_auto_columns": null,
      "grid_auto_flow": null,
      "grid_auto_rows": null,
      "grid_column": null,
      "grid_gap": null,
      "grid_row": null,
      "grid_template_areas": null,
      "grid_template_columns": null,
      "grid_template_rows": null,
      "height": null,
      "justify_content": null,
      "justify_items": null,
      "left": null,
      "margin": null,
      "max_height": null,
      "max_width": null,
      "min_height": null,
      "min_width": null,
      "object_fit": null,
      "object_position": null,
      "order": null,
      "overflow": null,
      "overflow_x": null,
      "overflow_y": null,
      "padding": null,
      "right": null,
      "top": null,
      "visibility": null,
      "width": null
     }
    },
    "eed0fb7c8c904837b393c0d55603a40c": {
     "model_module": "@jupyter-widgets/controls",
     "model_module_version": "1.5.0",
     "model_name": "HBoxModel",
     "state": {
      "_dom_classes": [],
      "_model_module": "@jupyter-widgets/controls",
      "_model_module_version": "1.5.0",
      "_model_name": "HBoxModel",
      "_view_count": null,
      "_view_module": "@jupyter-widgets/controls",
      "_view_module_version": "1.5.0",
      "_view_name": "HBoxView",
      "box_style": "",
      "children": [
       "IPY_MODEL_29862f9fd8a345e6bc0d803340480f3d",
       "IPY_MODEL_d54ef9fdc3f64b26971f025af0fbf521",
       "IPY_MODEL_78044b34b38a45d3af8b5c167843e40e"
      ],
      "layout": "IPY_MODEL_7394fbadf5fa49149d26b73d0413e5af"
     }
    },
    "eef7c11329a54f02972cb2baa9326e9e": {
     "model_module": "@jupyter-widgets/controls",
     "model_module_version": "1.5.0",
     "model_name": "ProgressStyleModel",
     "state": {
      "_model_module": "@jupyter-widgets/controls",
      "_model_module_version": "1.5.0",
      "_model_name": "ProgressStyleModel",
      "_view_count": null,
      "_view_module": "@jupyter-widgets/base",
      "_view_module_version": "1.2.0",
      "_view_name": "StyleView",
      "bar_color": null,
      "description_width": ""
     }
    },
    "f4633054036347ee89c24e67b28edeee": {
     "model_module": "@jupyter-widgets/controls",
     "model_module_version": "1.5.0",
     "model_name": "DescriptionStyleModel",
     "state": {
      "_model_module": "@jupyter-widgets/controls",
      "_model_module_version": "1.5.0",
      "_model_name": "DescriptionStyleModel",
      "_view_count": null,
      "_view_module": "@jupyter-widgets/base",
      "_view_module_version": "1.2.0",
      "_view_name": "StyleView",
      "description_width": ""
     }
    }
   }
  }
 },
 "nbformat": 4,
 "nbformat_minor": 4
}
